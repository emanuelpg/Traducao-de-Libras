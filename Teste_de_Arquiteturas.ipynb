{
 "cells": [
  {
   "cell_type": "code",
   "execution_count": 1,
   "id": "ade54f91",
   "metadata": {
    "executionInfo": {
     "elapsed": 5787,
     "status": "ok",
     "timestamp": 1683307644490,
     "user": {
      "displayName": "Emanuel Percinio Goncalves de Oliveira",
      "userId": "05830016732381327913"
     },
     "user_tz": 180
    },
    "id": "ade54f91"
   },
   "outputs": [
    {
     "ename": "ModuleNotFoundError",
     "evalue": "No module named 'keras'",
     "output_type": "error",
     "traceback": [
      "\u001b[1;31m---------------------------------------------------------------------------\u001b[0m",
      "\u001b[1;31mModuleNotFoundError\u001b[0m                       Traceback (most recent call last)",
      "\u001b[1;32m~\\AppData\\Local\\Temp/ipykernel_5556/1425791560.py\u001b[0m in \u001b[0;36m<module>\u001b[1;34m\u001b[0m\n\u001b[0;32m      2\u001b[0m \u001b[1;32mimport\u001b[0m \u001b[0mpandas\u001b[0m \u001b[1;32mas\u001b[0m \u001b[0mpd\u001b[0m\u001b[1;33m\u001b[0m\u001b[1;33m\u001b[0m\u001b[0m\n\u001b[0;32m      3\u001b[0m \u001b[1;32mimport\u001b[0m \u001b[0mmatplotlib\u001b[0m\u001b[1;33m.\u001b[0m\u001b[0mpyplot\u001b[0m \u001b[1;32mas\u001b[0m \u001b[0mplt\u001b[0m\u001b[1;33m\u001b[0m\u001b[1;33m\u001b[0m\u001b[0m\n\u001b[1;32m----> 4\u001b[1;33m \u001b[1;32mfrom\u001b[0m \u001b[0mkeras\u001b[0m\u001b[1;33m.\u001b[0m\u001b[0mmodels\u001b[0m \u001b[1;32mimport\u001b[0m \u001b[0mModel\u001b[0m\u001b[1;33m\u001b[0m\u001b[1;33m\u001b[0m\u001b[0m\n\u001b[0m\u001b[0;32m      5\u001b[0m \u001b[1;32mimport\u001b[0m \u001b[0mtensorflow\u001b[0m \u001b[1;32mas\u001b[0m \u001b[0mtf\u001b[0m\u001b[1;33m\u001b[0m\u001b[1;33m\u001b[0m\u001b[0m\n\u001b[0;32m      6\u001b[0m \u001b[1;33m\u001b[0m\u001b[0m\n",
      "\u001b[1;31mModuleNotFoundError\u001b[0m: No module named 'keras'"
     ]
    }
   ],
   "source": [
    "import numpy as np\n",
    "import pandas as pd\n",
    "import matplotlib.pyplot as plt\n",
    "from keras.models import Model\n",
    "import tensorflow as tf\n",
    "\n",
    "from sklearn.metrics import accuracy_score"
   ]
  },
  {
   "cell_type": "code",
   "execution_count": 2,
   "id": "4c915ba6",
   "metadata": {
    "executionInfo": {
     "elapsed": 1190,
     "status": "ok",
     "timestamp": 1683307645676,
     "user": {
      "displayName": "Emanuel Percinio Goncalves de Oliveira",
      "userId": "05830016732381327913"
     },
     "user_tz": 180
    },
    "id": "4c915ba6"
   },
   "outputs": [],
   "source": [
    "from sklearn.model_selection import train_test_split\n",
    "import cv2 as cv\n",
    "import os\n",
    "\n",
    "def load_images_from_folder(folder):\n",
    "    images = []\n",
    "    for filename in os.listdir(folder):\n",
    "        img = cv.imread(os.path.join(folder,filename))\n",
    "        if img is not None:\n",
    "            images.append(img)\n",
    "    return images"
   ]
  },
  {
   "cell_type": "code",
   "execution_count": null,
   "id": "1831127a",
   "metadata": {
    "id": "1831127a"
   },
   "outputs": [],
   "source": [
    "X_train = []\n",
    "y_train = []\n",
    "cont = 0\n",
    "for letra in os.listdir('/media/emanueloliveira/Dados/SCC0910ComputerVision/Dataset/train'):\n",
    "    for image in load_images_from_folder(f'/media/emanueloliveira/Dados/SCC0910ComputerVision/Dataset/train/{letra}'):\n",
    "        X_train.append(image)\n",
    "        y_train.append(cont)\n",
    "    cont += 1\n",
    "  \n",
    "X_test = []\n",
    "y_test = []\n",
    "\n",
    "cont = 0\n",
    "for letra in os.listdir('/media/emanueloliveira/Dados/SCC0910ComputerVision/Dataset/test'):\n",
    "    for image in load_images_from_folder(f'/media/emanueloliveira/Dados/SCC0910ComputerVision/Dataset/test/{letra}'):\n",
    "        X_test.append(image)\n",
    "        y_test.append(cont)\n",
    "    cont += 1\n",
    "    \n",
    "X_train = np.array(X_train)\n",
    "y_train = np.array(y_train)\n",
    "X_test = np.array(X_test)\n",
    "y_test = np.array(y_test)"
   ]
  },
  {
   "cell_type": "markdown",
   "id": "e32a15fa",
   "metadata": {
    "id": "e32a15fa"
   },
   "source": [
    "### Testando com VGG"
   ]
  },
  {
   "cell_type": "code",
   "execution_count": null,
   "id": "13697e4d",
   "metadata": {
    "id": "13697e4d"
   },
   "outputs": [],
   "source": [
    "import tensorflow.keras.applications as apps\n",
    "from tensorflow import keras\n",
    "from tensorflow.keras import layers\n",
    "\n",
    "model = apps.VGG16(include_top=False, weights='imagenet', input_shape=(64, 64, 3))\n",
    "model = Model(inputs=model.input, outputs=model.get_layer(index=-1).output)\n",
    "model.trainable = False"
   ]
  },
  {
   "cell_type": "code",
   "execution_count": null,
   "id": "1b2dcc04",
   "metadata": {
    "id": "1b2dcc04",
    "outputId": "a54f5b97-7c2b-40b0-8dbd-f1c0ed9e3271",
    "scrolled": true
   },
   "outputs": [
    {
     "name": "stdout",
     "output_type": "stream",
     "text": [
      "Model output (None, 2, 2, 512)\n"
     ]
    }
   ],
   "source": [
    "print(\"Model output\", model.output.shape)"
   ]
  },
  {
   "cell_type": "code",
   "execution_count": null,
   "id": "aa021274",
   "metadata": {
    "id": "aa021274",
    "outputId": "562ad3a8-9713-4992-bedd-b0aabe2afdd6",
    "scrolled": true
   },
   "outputs": [
    {
     "name": "stdout",
     "output_type": "stream",
     "text": [
      "1/1 [==============================] - 0s 121ms/step\n"
     ]
    }
   ],
   "source": [
    "preds = model.predict(X_data[0:5])"
   ]
  },
  {
   "cell_type": "code",
   "execution_count": null,
   "id": "ff99feee",
   "metadata": {
    "id": "ff99feee",
    "outputId": "4401aa27-24f4-4e26-c04d-9c984aff5ade"
   },
   "outputs": [
    {
     "name": "stdout",
     "output_type": "stream",
     "text": [
      "prediction shape (2, 2, 512)\n"
     ]
    }
   ],
   "source": [
    "print(\"prediction shape\", np.array(preds[0]).shape)"
   ]
  },
  {
   "cell_type": "code",
   "execution_count": null,
   "id": "7ce1193a",
   "metadata": {
    "id": "7ce1193a"
   },
   "outputs": [],
   "source": [
    "Predshape = np.array(preds[0]).reshape(-1).shape[0]"
   ]
  },
  {
   "cell_type": "code",
   "execution_count": null,
   "id": "73154a08",
   "metadata": {
    "id": "73154a08",
    "outputId": "f1070be4-6634-4de8-f08e-a9206a9d23ae"
   },
   "outputs": [
    {
     "name": "stdout",
     "output_type": "stream",
     "text": [
      "Feature extraction ...\n",
      "1377/1377 [==============================] - 252s 183ms/step\n",
      "\tFeatures data shape:  (44062, 2048)\n"
     ]
    }
   ],
   "source": [
    "# Extração de features\n",
    "print(\"Feature extraction ...\")\n",
    "predictionTrain = np.array(model.predict(X_train))\n",
    "featuresTrain = np.reshape(predictionTrain, (predictionTrain.shape[0], Predshape))\n",
    "predictionTest = np.array(model.predict(X_test))\n",
    "featuresTest = np.reshape(predictionTest, (predictionTest.shape[0], Predshape))\n",
    "\n",
    "print('\\tFeatures train shape: ', featuresData.shape)\n",
    "print('\\tFeatures test shape: ', featuresData.shape)"
   ]
  },
  {
   "cell_type": "code",
   "execution_count": null,
   "id": "82f8c294",
   "metadata": {
    "id": "82f8c294",
    "outputId": "681b312c-7ffa-4cac-c4fb-81db7f9e8905"
   },
   "outputs": [
    {
     "name": "stdout",
     "output_type": "stream",
     "text": [
      "X_reduced shape:  (44062, 154)\n"
     ]
    }
   ],
   "source": [
    "from sklearn.decomposition import PCA\n",
    "\n",
    "pca = PCA(n_components=0.95)\n",
    "X_reduced = pca.fit_transform(featuresData)\n",
    "\n",
    "print('X_reduced shape: ', X_reduced.shape)"
   ]
  },
  {
   "cell_type": "code",
   "execution_count": null,
   "id": "d9bd26c6",
   "metadata": {
    "id": "d9bd26c6"
   },
   "outputs": [],
   "source": [
    "from sklearn.preprocessing import label_binarize\n",
    "labels = [i for i in range(0, 21)]\n",
    "\n",
    "X_train, X_test, y_train, y_test = train_test_split(X_reduced, y_data, test_size=0.33)\n",
    "\n",
    "y_train = np.array(label_binarize(y_train, classes=labels))\n",
    "y_test = np.array(label_binarize(y_test, classes=labels))\n",
    "X_train, X_val, y_train, y_val = train_test_split(X_train, y_train, test_size=0.25)"
   ]
  },
  {
   "cell_type": "code",
   "execution_count": null,
   "id": "e67a78be",
   "metadata": {
    "id": "e67a78be",
    "outputId": "a9071a2e-4232-43e8-b9e6-43b8f18c46d4",
    "scrolled": false
   },
   "outputs": [
    {
     "name": "stdout",
     "output_type": "stream",
     "text": [
      "training set shape (22140, 154)\n",
      "testing set shape (14541, 154)\n",
      "label train set shape (22140, 21)\n",
      "label test set shape (14541, 21)\n"
     ]
    }
   ],
   "source": [
    "print(f'training set shape {X_train.shape}')\n",
    "print(f'testing set shape {X_test.shape}')\n",
    "print(f'label train set shape {y_train.shape}')\n",
    "print(f'label test set shape {y_test.shape}')"
   ]
  },
  {
   "cell_type": "code",
   "execution_count": null,
   "id": "0c7cf609",
   "metadata": {
    "id": "0c7cf609"
   },
   "outputs": [],
   "source": [
    "# Creating the Sequential Model\n",
    "model = keras.Sequential([\n",
    "    \n",
    "    # Fully-connected layer\n",
    "    layers.Dense(42, activation='relu', input_shape=[X_train.shape[1]]),\n",
    "    layers.Dense(21, activation='softmax'),\n",
    "])\n",
    "\n",
    "model.compile(\n",
    "    optimizer='adam',\n",
    "    loss = 'categorical_crossentropy',\n",
    "    metrics = ['categorical_accuracy'],\n",
    ")"
   ]
  },
  {
   "cell_type": "code",
   "execution_count": null,
   "id": "2363a59f",
   "metadata": {
    "id": "2363a59f",
    "outputId": "8dd5e749-0b1a-48c2-d9d1-ac5df23fa167"
   },
   "outputs": [
    {
     "name": "stdout",
     "output_type": "stream",
     "text": [
      "Model: \"sequential\"\n",
      "_________________________________________________________________\n",
      " Layer (type)                Output Shape              Param #   \n",
      "=================================================================\n",
      " dense_1 (Dense)             (None, 42)                6510      \n",
      "                                                                 \n",
      " dense_2 (Dense)             (None, 21)                903       \n",
      "                                                                 \n",
      "=================================================================\n",
      "Total params: 7,413\n",
      "Trainable params: 7,413\n",
      "Non-trainable params: 0\n",
      "_________________________________________________________________\n"
     ]
    }
   ],
   "source": [
    "model.summary()"
   ]
  },
  {
   "cell_type": "code",
   "execution_count": null,
   "id": "4d8cca96",
   "metadata": {
    "id": "4d8cca96",
    "outputId": "b69bbcf3-1019-4390-8fe1-c0d4d459a2f2",
    "scrolled": true
   },
   "outputs": [
    {
     "name": "stdout",
     "output_type": "stream",
     "text": [
      "Epoch 1/100\n",
      "692/692 [==============================] - 2s 2ms/step - loss: 4.0253 - categorical_accuracy: 0.8436 - val_loss: 0.0652 - val_categorical_accuracy: 0.9862\n",
      "Epoch 2/100\n",
      "692/692 [==============================] - 1s 2ms/step - loss: 0.0300 - categorical_accuracy: 0.9938 - val_loss: 0.0275 - val_categorical_accuracy: 0.9949\n",
      "Epoch 3/100\n",
      "692/692 [==============================] - 1s 2ms/step - loss: 0.0089 - categorical_accuracy: 0.9975 - val_loss: 0.0236 - val_categorical_accuracy: 0.9954\n",
      "Epoch 4/100\n",
      "692/692 [==============================] - 1s 2ms/step - loss: 0.0027 - categorical_accuracy: 0.9993 - val_loss: 0.0160 - val_categorical_accuracy: 0.9969\n",
      "Epoch 5/100\n",
      "692/692 [==============================] - 1s 2ms/step - loss: 0.0121 - categorical_accuracy: 0.9978 - val_loss: 0.0455 - val_categorical_accuracy: 0.9944\n",
      "Epoch 6/100\n",
      "692/692 [==============================] - 1s 2ms/step - loss: 0.0312 - categorical_accuracy: 0.9949 - val_loss: 0.0514 - val_categorical_accuracy: 0.9923\n",
      "Epoch 7/100\n",
      "692/692 [==============================] - 1s 2ms/step - loss: 0.0096 - categorical_accuracy: 0.9981 - val_loss: 0.0405 - val_categorical_accuracy: 0.9950\n",
      "Epoch 8/100\n",
      "692/692 [==============================] - 1s 2ms/step - loss: 0.0253 - categorical_accuracy: 0.9966 - val_loss: 0.0316 - val_categorical_accuracy: 0.9954\n",
      "Epoch 9/100\n",
      "692/692 [==============================] - 1s 2ms/step - loss: 0.0092 - categorical_accuracy: 0.9989 - val_loss: 0.0318 - val_categorical_accuracy: 0.9963\n",
      "Epoch 10/100\n",
      "692/692 [==============================] - 1s 1ms/step - loss: 0.0085 - categorical_accuracy: 0.9989 - val_loss: 0.0153 - val_categorical_accuracy: 0.9977\n",
      "Epoch 11/100\n",
      "692/692 [==============================] - 1s 2ms/step - loss: 0.0076 - categorical_accuracy: 0.9986 - val_loss: 0.0555 - val_categorical_accuracy: 0.9951\n",
      "Epoch 12/100\n",
      "692/692 [==============================] - 1s 2ms/step - loss: 0.0215 - categorical_accuracy: 0.9972 - val_loss: 0.0318 - val_categorical_accuracy: 0.9963\n",
      "Epoch 13/100\n",
      "692/692 [==============================] - 1s 2ms/step - loss: 0.0071 - categorical_accuracy: 0.9986 - val_loss: 0.0216 - val_categorical_accuracy: 0.9974\n",
      "Epoch 14/100\n",
      "692/692 [==============================] - 1s 2ms/step - loss: 0.0029 - categorical_accuracy: 0.9995 - val_loss: 0.0166 - val_categorical_accuracy: 0.9988\n"
     ]
    }
   ],
   "source": [
    "from tensorflow.keras.callbacks import EarlyStopping\n",
    "\n",
    "early_stopping = EarlyStopping(\n",
    "    min_delta=0.001, # minimium amount of change to count as an improvement\n",
    "    patience=10, # how many epochs to wait before stopping\n",
    "    restore_best_weights=True,\n",
    ")\n",
    "\n",
    "history = model.fit(\n",
    "    X_train, y_train,\n",
    "    validation_data=(X_val, y_val),\n",
    "    batch_size=32,\n",
    "    epochs=100,\n",
    "    shuffle=True,\n",
    "    callbacks=[early_stopping],\n",
    ")"
   ]
  },
  {
   "cell_type": "code",
   "execution_count": null,
   "id": "b2566d72",
   "metadata": {
    "id": "b2566d72",
    "outputId": "aa005ce7-6d92-4cad-f140-fb30f7a59469"
   },
   "outputs": [
    {
     "name": "stdout",
     "output_type": "stream",
     "text": [
      "Best Validation Loss: 0.0153\n",
      "Best Validation Accuracy: 0.9988\n"
     ]
    },
    {
     "data": {
      "image/png": "[encoded data removed]",
      "text/plain": [
       "<Figure size 640x480 with 1 Axes>"
      ]
     },
     "metadata": {},
     "output_type": "display_data"
    },
    {
     "data": {
      "image/png": "[encoded data removed]",
      "text/plain": [
       "<Figure size 640x480 with 1 Axes>"
      ]
     },
     "metadata": {},
     "output_type": "display_data"
    }
   ],
   "source": [
    "# Estatística do modelo\n",
    "history_df = pd.DataFrame(history.history)\n",
    "history_df.loc[1:, ['loss', 'val_loss']].plot()\n",
    "history_df.loc[1:, ['categorical_accuracy', 'val_categorical_accuracy']].plot()\n",
    "\n",
    "print((\"Best Validation Loss: {:0.4f}\" +\\\n",
    "      \"\\nBest Validation Accuracy: {:0.4f}\")\\\n",
    "      .format(history_df['val_loss'].min(), \n",
    "              history_df['val_categorical_accuracy'].max()))"
   ]
  },
  {
   "cell_type": "code",
   "execution_count": null,
   "id": "3c77e7f3",
   "metadata": {
    "id": "3c77e7f3",
    "outputId": "4d154e0c-72a7-4032-881f-fe11f02b75f5"
   },
   "outputs": [
    {
     "name": "stdout",
     "output_type": "stream",
     "text": [
      "455/455 [==============================] - 0s 742us/step\n"
     ]
    }
   ],
   "source": [
    "# Decoding predições e labels de test por hard voting \n",
    "argy_test = [np.argmax(i) for i in y_test]\n",
    "argy_pred = [np.argmax(i) for i in model.predict(X_test)]"
   ]
  },
  {
   "cell_type": "code",
   "execution_count": null,
   "id": "52e0c6a8",
   "metadata": {
    "id": "52e0c6a8",
    "outputId": "21fecb6a-698f-40b9-c6fe-656896a534b5"
   },
   "outputs": [
    {
     "name": "stdout",
     "output_type": "stream",
     "text": [
      "VGG score on test set: 0.9967677601265388\n"
     ]
    }
   ],
   "source": [
    "# Resultado nos dados de test\n",
    "\n",
    "print(f'VGG score on test set: {accuracy_score(argy_test, argy_pred)}')"
   ]
  },
  {
   "cell_type": "markdown",
   "id": "2e5fb5fa",
   "metadata": {
    "id": "2e5fb5fa"
   },
   "source": [
    "### Testando com ResNet"
   ]
  },
  {
   "cell_type": "code",
   "execution_count": null,
   "id": "c5e7e702",
   "metadata": {
    "id": "c5e7e702"
   },
   "outputs": [],
   "source": [
    "import tensorflow.keras.applications as apps\n",
    "from tensorflow import keras\n",
    "from tensorflow.keras import layers\n",
    "\n",
    "model = apps.ResNet50(include_top=False, weights='imagenet', input_shape=(64, 64, 3))\n",
    "model = Model(inputs=model.input, outputs=model.get_layer(index=-1).output)\n",
    "model.trainable = False"
   ]
  },
  {
   "cell_type": "code",
   "execution_count": null,
   "id": "e95dca29",
   "metadata": {
    "id": "e95dca29",
    "outputId": "efc16304-1cf7-4f98-f3a7-17b333edc368"
   },
   "outputs": [
    {
     "name": "stdout",
     "output_type": "stream",
     "text": [
      "Model output (None, 2, 2, 2048)\n"
     ]
    }
   ],
   "source": [
    "print(\"Model output\", model.output.shape)"
   ]
  },
  {
   "cell_type": "code",
   "execution_count": null,
   "id": "cce93602",
   "metadata": {
    "id": "cce93602",
    "outputId": "9ffdd5c9-62b5-4744-fa09-6b0f7a55ee21"
   },
   "outputs": [
    {
     "name": "stdout",
     "output_type": "stream",
     "text": [
      "1/1 [==============================] - 1s 586ms/step\n"
     ]
    }
   ],
   "source": [
    "preds = model.predict(X_data[0:5])"
   ]
  },
  {
   "cell_type": "code",
   "execution_count": null,
   "id": "f065cc56",
   "metadata": {
    "id": "f065cc56",
    "outputId": "25d1ac14-e5ed-431c-bba1-cdc02d170086"
   },
   "outputs": [
    {
     "name": "stdout",
     "output_type": "stream",
     "text": [
      "prediction shape (2, 2, 2048)\n"
     ]
    }
   ],
   "source": [
    "print(\"prediction shape\", np.array(preds[0]).shape)"
   ]
  },
  {
   "cell_type": "code",
   "execution_count": null,
   "id": "fbe6a3d7",
   "metadata": {
    "id": "fbe6a3d7",
    "outputId": "cff8dd3c-a517-4058-9365-ffede63f95e7"
   },
   "outputs": [
    {
     "name": "stdout",
     "output_type": "stream",
     "text": [
      "predshape: 8192\n"
     ]
    }
   ],
   "source": [
    "Predshape = np.array(preds[0]).reshape(-1).shape[0]\n",
    "print(f\"predshape: {Predshape}\")"
   ]
  },
  {
   "cell_type": "code",
   "execution_count": null,
   "id": "22233505",
   "metadata": {
    "id": "22233505",
    "outputId": "c5b1be19-4926-40e4-ce67-2eb8d220cc62"
   },
   "outputs": [
    {
     "name": "stdout",
     "output_type": "stream",
     "text": [
      "Feature extraction ...\n",
      "1377/1377 [==============================] - 121s 88ms/step\n",
      "\tFeatures data shape:  (44062, 8192)\n"
     ]
    }
   ],
   "source": [
    "# Extração de features\n",
    "print(\"Feature extraction ...\")\n",
    "prediction = np.array(model.predict(X_data))\n",
    "featuresData = np.reshape(prediction, (prediction.shape[0], Predshape))\n",
    "\n",
    "print('\\tFeatures data shape: ', featuresData.shape)"
   ]
  },
  {
   "cell_type": "code",
   "execution_count": null,
   "id": "840a7517",
   "metadata": {
    "id": "840a7517",
    "outputId": "0e5fb7bb-c9da-4848-fe5c-2eb8eeba1d26"
   },
   "outputs": [
    {
     "name": "stdout",
     "output_type": "stream",
     "text": [
      "X_reduced shape:  (44062, 380)\n"
     ]
    }
   ],
   "source": [
    "from sklearn.decomposition import PCA\n",
    "\n",
    "pca = PCA(n_components=0.95)\n",
    "X_reduced = pca.fit_transform(featuresData)\n",
    "\n",
    "print('X_reduced shape: ', X_reduced.shape)"
   ]
  },
  {
   "cell_type": "code",
   "execution_count": null,
   "id": "a012e3f6",
   "metadata": {
    "id": "a012e3f6"
   },
   "outputs": [],
   "source": [
    "from sklearn.preprocessing import label_binarize\n",
    "labels = [i for i in range(0, 21)]\n",
    "\n",
    "X_train, X_test, y_train, y_test = train_test_split(X_reduced, y_data, test_size=0.33)\n",
    "\n",
    "y_train = np.array(label_binarize(y_train, classes=labels))\n",
    "y_test = np.array(label_binarize(y_test, classes=labels))\n",
    "X_train, X_val, y_train, y_val = train_test_split(X_train, y_train, test_size=0.25)"
   ]
  },
  {
   "cell_type": "code",
   "execution_count": null,
   "id": "ee136ed8",
   "metadata": {
    "id": "ee136ed8",
    "outputId": "a866f2ff-1bc1-4fe1-f045-f8e7af567480"
   },
   "outputs": [
    {
     "name": "stdout",
     "output_type": "stream",
     "text": [
      "training set shape (22140, 380)\n",
      "testing set shape (14541, 380)\n",
      "label train set shape (22140, 21)\n",
      "label test set shape (14541, 21)\n"
     ]
    }
   ],
   "source": [
    "print(f'training set shape {X_train.shape}')\n",
    "print(f'testing set shape {X_test.shape}')\n",
    "print(f'label train set shape {y_train.shape}')\n",
    "print(f'label test set shape {y_test.shape}')"
   ]
  },
  {
   "cell_type": "code",
   "execution_count": null,
   "id": "cf62a7d6",
   "metadata": {
    "id": "cf62a7d6"
   },
   "outputs": [],
   "source": [
    "# Creating the Sequential Model\n",
    "model = keras.Sequential([\n",
    "    \n",
    "    # Fully-connected layer\n",
    "    layers.Dense(42, activation='relu', input_shape=[X_train.shape[1]]),\n",
    "    layers.Dense(21, activation='softmax'),\n",
    "])\n",
    "\n",
    "model.compile(\n",
    "    optimizer='adam',\n",
    "    loss = 'categorical_crossentropy',\n",
    "    metrics = ['categorical_accuracy'],\n",
    ")"
   ]
  },
  {
   "cell_type": "code",
   "execution_count": null,
   "id": "f2d6d827",
   "metadata": {
    "id": "f2d6d827",
    "outputId": "68583156-6024-4a2a-8ea3-a0f8207cd140"
   },
   "outputs": [
    {
     "name": "stdout",
     "output_type": "stream",
     "text": [
      "Model: \"sequential_1\"\n",
      "_________________________________________________________________\n",
      " Layer (type)                Output Shape              Param #   \n",
      "=================================================================\n",
      " dense_3 (Dense)             (None, 42)                16002     \n",
      "                                                                 \n",
      " dense_4 (Dense)             (None, 21)                903       \n",
      "                                                                 \n",
      "=================================================================\n",
      "Total params: 16,905\n",
      "Trainable params: 16,905\n",
      "Non-trainable params: 0\n",
      "_________________________________________________________________\n"
     ]
    }
   ],
   "source": [
    "model.summary()"
   ]
  },
  {
   "cell_type": "code",
   "execution_count": null,
   "id": "c9791840",
   "metadata": {
    "id": "c9791840",
    "outputId": "29e26264-85cd-4e9c-9703-6d7fc47937cd"
   },
   "outputs": [
    {
     "name": "stdout",
     "output_type": "stream",
     "text": [
      "Epoch 1/100\n",
      "692/692 [==============================] - 1s 1ms/step - loss: 0.6845 - categorical_accuracy: 0.8841 - val_loss: 0.0310 - val_categorical_accuracy: 0.9930\n",
      "Epoch 2/100\n",
      "692/692 [==============================] - 1s 2ms/step - loss: 0.0138 - categorical_accuracy: 0.9977 - val_loss: 0.0115 - val_categorical_accuracy: 0.9984\n",
      "Epoch 3/100\n",
      "692/692 [==============================] - 1s 2ms/step - loss: 0.0045 - categorical_accuracy: 0.9995 - val_loss: 0.0051 - val_categorical_accuracy: 0.9995\n",
      "Epoch 4/100\n",
      "692/692 [==============================] - 1s 2ms/step - loss: 0.0020 - categorical_accuracy: 0.9999 - val_loss: 0.0035 - val_categorical_accuracy: 0.9996\n",
      "Epoch 5/100\n",
      "692/692 [==============================] - 1s 2ms/step - loss: 9.4987e-04 - categorical_accuracy: 1.0000 - val_loss: 0.0029 - val_categorical_accuracy: 0.9996\n",
      "Epoch 6/100\n",
      "692/692 [==============================] - 1s 2ms/step - loss: 5.8702e-04 - categorical_accuracy: 1.0000 - val_loss: 0.0022 - val_categorical_accuracy: 0.9996\n",
      "Epoch 7/100\n",
      "692/692 [==============================] - 1s 1ms/step - loss: 3.8875e-04 - categorical_accuracy: 1.0000 - val_loss: 0.0020 - val_categorical_accuracy: 0.9995\n",
      "Epoch 8/100\n",
      "692/692 [==============================] - 1s 2ms/step - loss: 2.6450e-04 - categorical_accuracy: 1.0000 - val_loss: 0.0019 - val_categorical_accuracy: 0.9997\n",
      "Epoch 9/100\n",
      "692/692 [==============================] - 1s 1ms/step - loss: 1.7349e-04 - categorical_accuracy: 1.0000 - val_loss: 0.0016 - val_categorical_accuracy: 0.9997\n",
      "Epoch 10/100\n",
      "692/692 [==============================] - 1s 2ms/step - loss: 1.2054e-04 - categorical_accuracy: 1.0000 - val_loss: 0.0015 - val_categorical_accuracy: 0.9997\n",
      "Epoch 11/100\n",
      "692/692 [==============================] - 1s 2ms/step - loss: 8.3471e-05 - categorical_accuracy: 1.0000 - val_loss: 0.0016 - val_categorical_accuracy: 0.9996\n",
      "Epoch 12/100\n",
      "692/692 [==============================] - 1s 1ms/step - loss: 5.7664e-05 - categorical_accuracy: 1.0000 - val_loss: 0.0013 - val_categorical_accuracy: 0.9997\n",
      "Epoch 13/100\n",
      "692/692 [==============================] - 1s 2ms/step - loss: 3.9416e-05 - categorical_accuracy: 1.0000 - val_loss: 0.0013 - val_categorical_accuracy: 0.9997\n",
      "Epoch 14/100\n",
      "692/692 [==============================] - 1s 2ms/step - loss: 2.7725e-05 - categorical_accuracy: 1.0000 - val_loss: 0.0012 - val_categorical_accuracy: 0.9997\n",
      "Epoch 15/100\n",
      "692/692 [==============================] - 1s 1ms/step - loss: 0.0250 - categorical_accuracy: 0.9948 - val_loss: 0.0225 - val_categorical_accuracy: 0.9946\n",
      "Epoch 16/100\n",
      "692/692 [==============================] - 1s 2ms/step - loss: 0.0079 - categorical_accuracy: 0.9980 - val_loss: 0.0108 - val_categorical_accuracy: 0.9972\n",
      "Epoch 17/100\n",
      "692/692 [==============================] - 1s 1ms/step - loss: 0.0018 - categorical_accuracy: 0.9995 - val_loss: 0.0096 - val_categorical_accuracy: 0.9973\n",
      "Epoch 18/100\n",
      "692/692 [==============================] - 1s 2ms/step - loss: 9.9215e-04 - categorical_accuracy: 0.9998 - val_loss: 0.0038 - val_categorical_accuracy: 0.9986\n",
      "Epoch 19/100\n",
      "692/692 [==============================] - 2s 2ms/step - loss: 4.1405e-05 - categorical_accuracy: 1.0000 - val_loss: 0.0032 - val_categorical_accuracy: 0.9992\n",
      "Epoch 20/100\n",
      "692/692 [==============================] - 1s 2ms/step - loss: 2.5826e-05 - categorical_accuracy: 1.0000 - val_loss: 0.0029 - val_categorical_accuracy: 0.9992\n",
      "Epoch 21/100\n",
      "692/692 [==============================] - 1s 2ms/step - loss: 1.9376e-05 - categorical_accuracy: 1.0000 - val_loss: 0.0028 - val_categorical_accuracy: 0.9995\n",
      "Epoch 22/100\n",
      "692/692 [==============================] - 1s 1ms/step - loss: 1.4870e-05 - categorical_accuracy: 1.0000 - val_loss: 0.0026 - val_categorical_accuracy: 0.9996\n",
      "Epoch 23/100\n",
      "692/692 [==============================] - 1s 1ms/step - loss: 1.1543e-05 - categorical_accuracy: 1.0000 - val_loss: 0.0025 - val_categorical_accuracy: 0.9995\n",
      "Epoch 24/100\n",
      "692/692 [==============================] - 1s 2ms/step - loss: 8.9741e-06 - categorical_accuracy: 1.0000 - val_loss: 0.0024 - val_categorical_accuracy: 0.9995\n"
     ]
    }
   ],
   "source": [
    "from tensorflow.keras.callbacks import EarlyStopping\n",
    "\n",
    "early_stopping = EarlyStopping(\n",
    "    min_delta=0.001, # minimium amount of change to count as an improvement\n",
    "    patience=10, # how many epochs to wait before stopping\n",
    "    restore_best_weights=True,\n",
    ")\n",
    "\n",
    "history = model.fit(\n",
    "    X_train, y_train,\n",
    "    validation_data=(X_val, y_val),\n",
    "    batch_size=32,\n",
    "    epochs=100,\n",
    "    shuffle=True,\n",
    "    callbacks=[early_stopping],\n",
    ")"
   ]
  },
  {
   "cell_type": "code",
   "execution_count": null,
   "id": "6efe9006",
   "metadata": {
    "id": "6efe9006",
    "outputId": "d4dc79a7-92b2-41a0-c258-48f387d46b9a"
   },
   "outputs": [
    {
     "name": "stdout",
     "output_type": "stream",
     "text": [
      "Best Validation Loss: 0.0012\n",
      "Best Validation Accuracy: 0.9997\n"
     ]
    },
    {
     "data": {
      "image/png": "[encoded data removed]",
      "text/plain": [
       "<Figure size 640x480 with 1 Axes>"
      ]
     },
     "metadata": {},
     "output_type": "display_data"
    },
    {
     "data": {
      "image/png": "[encoded data removed]",
      "text/plain": [
       "<Figure size 640x480 with 1 Axes>"
      ]
     },
     "metadata": {},
     "output_type": "display_data"
    }
   ],
   "source": [
    "# Estatística do modelo\n",
    "history_df = pd.DataFrame(history.history)\n",
    "history_df.loc[1:, ['loss', 'val_loss']].plot()\n",
    "history_df.loc[1:, ['categorical_accuracy', 'val_categorical_accuracy']].plot()\n",
    "\n",
    "print((\"Best Validation Loss: {:0.4f}\" +\\\n",
    "      \"\\nBest Validation Accuracy: {:0.4f}\")\\\n",
    "      .format(history_df['val_loss'].min(), \n",
    "              history_df['val_categorical_accuracy'].max()))"
   ]
  },
  {
   "cell_type": "code",
   "execution_count": null,
   "id": "4e069885",
   "metadata": {
    "id": "4e069885",
    "outputId": "ba448008-15e4-474f-be61-eedc90c1565a"
   },
   "outputs": [
    {
     "name": "stdout",
     "output_type": "stream",
     "text": [
      "455/455 [==============================] - 0s 659us/step\n"
     ]
    }
   ],
   "source": [
    "# Decoding predições e labels de test por hard voting \n",
    "argy_test = [np.argmax(i) for i in y_test]\n",
    "argy_pred = [np.argmax(i) for i in model.predict(X_test)]"
   ]
  },
  {
   "cell_type": "code",
   "execution_count": null,
   "id": "43876945",
   "metadata": {
    "id": "43876945",
    "outputId": "be7013bc-f018-48c5-9c06-d357e2fa0942"
   },
   "outputs": [
    {
     "name": "stdout",
     "output_type": "stream",
     "text": [
      "ResNet score on test set: 0.9993810604497627\n"
     ]
    }
   ],
   "source": [
    "# Resultado nos dados de test\n",
    "\n",
    "print(f'ResNet score on test set: {accuracy_score(argy_test, argy_pred)}')"
   ]
  },
  {
   "cell_type": "markdown",
   "id": "667a2b51",
   "metadata": {
    "id": "667a2b51"
   },
   "source": [
    "### Testando com EfficientNetB3"
   ]
  },
  {
   "cell_type": "code",
   "execution_count": null,
   "id": "d119e2a3",
   "metadata": {
    "id": "d119e2a3",
    "scrolled": true
   },
   "outputs": [],
   "source": [
    "import tensorflow.keras.applications as apps\n",
    "from tensorflow import keras\n",
    "from tensorflow.keras import layers\n",
    "\n",
    "model = apps.EfficientNetB3(include_top=False, weights='imagenet', input_shape=(64, 64, 3))\n",
    "model = Model(inputs=model.input, outputs=model.get_layer(index=-1).output)\n",
    "model.trainable = False"
   ]
  },
  {
   "cell_type": "code",
   "execution_count": null,
   "id": "229188a0",
   "metadata": {
    "id": "229188a0",
    "outputId": "3e97bf9b-d852-46e5-822f-1d929243ac99"
   },
   "outputs": [
    {
     "name": "stdout",
     "output_type": "stream",
     "text": [
      "Model output (None, 2, 2, 1536)\n"
     ]
    }
   ],
   "source": [
    "print(\"Model output\", model.output.shape)"
   ]
  },
  {
   "cell_type": "code",
   "execution_count": null,
   "id": "c2c24dbf",
   "metadata": {
    "id": "c2c24dbf",
    "outputId": "75d8a257-cdc1-44ce-8308-636477ea02e9"
   },
   "outputs": [
    {
     "name": "stdout",
     "output_type": "stream",
     "text": [
      "1/1 [==============================] - 2s 2s/step\n"
     ]
    }
   ],
   "source": [
    "preds = model.predict(X_data[0:5])"
   ]
  },
  {
   "cell_type": "code",
   "execution_count": null,
   "id": "6053274d",
   "metadata": {
    "id": "6053274d",
    "outputId": "d0d57c4f-9d19-437b-e1a2-25f4b2636301"
   },
   "outputs": [
    {
     "name": "stdout",
     "output_type": "stream",
     "text": [
      "prediction shape (2, 2, 1536)\n"
     ]
    }
   ],
   "source": [
    "print(\"prediction shape\", np.array(preds[0]).shape)"
   ]
  },
  {
   "cell_type": "code",
   "execution_count": null,
   "id": "e1106448",
   "metadata": {
    "id": "e1106448"
   },
   "outputs": [],
   "source": [
    "Predshape = np.array(preds[0]).reshape(-1).shape[0]"
   ]
  },
  {
   "cell_type": "code",
   "execution_count": null,
   "id": "dfa6d455",
   "metadata": {
    "id": "dfa6d455",
    "outputId": "b7ebc2aa-298b-48f8-f131-fca5e811a6e2"
   },
   "outputs": [
    {
     "name": "stdout",
     "output_type": "stream",
     "text": [
      "Feature extraction ...\n",
      "1377/1377 [==============================] - 114s 83ms/step\n"
     ]
    }
   ],
   "source": [
    "# Extração de features\n",
    "print(\"Feature extraction ...\")\n",
    "prediction = np.array(model.predict(X_data))\n",
    "featuresData = np.reshape(prediction, (prediction.shape[0], Predshape))"
   ]
  },
  {
   "cell_type": "code",
   "execution_count": null,
   "id": "dc01ddce",
   "metadata": {
    "id": "dc01ddce",
    "outputId": "db81d9a3-6610-4f2d-9899-71cccd3b09e3"
   },
   "outputs": [
    {
     "name": "stdout",
     "output_type": "stream",
     "text": [
      "\tFeatures data shape:  (44062, 6144)\n"
     ]
    }
   ],
   "source": [
    "print('\\tFeatures data shape: ', featuresData.shape)"
   ]
  },
  {
   "cell_type": "code",
   "execution_count": null,
   "id": "917c7bb6",
   "metadata": {
    "id": "917c7bb6"
   },
   "outputs": [],
   "source": [
    "from sklearn.decomposition import PCA\n",
    "\n",
    "pca = PCA(n_components=0.95)\n",
    "X_reduced = pca.fit_transform(featuresData)"
   ]
  },
  {
   "cell_type": "code",
   "execution_count": null,
   "id": "a7fe81e1",
   "metadata": {
    "id": "a7fe81e1",
    "outputId": "e224cf08-7a1b-4bb5-c6b1-41021c5685b9"
   },
   "outputs": [
    {
     "name": "stdout",
     "output_type": "stream",
     "text": [
      "X_reduced shape:  (44062, 208)\n"
     ]
    }
   ],
   "source": [
    "print('X_reduced shape: ', X_reduced.shape)"
   ]
  },
  {
   "cell_type": "code",
   "execution_count": null,
   "id": "abb429dd",
   "metadata": {
    "id": "abb429dd"
   },
   "outputs": [],
   "source": [
    "from sklearn.preprocessing import label_binarize\n",
    "labels = [i for i in range(0, 21)]\n",
    "\n",
    "X_train, X_test, y_train, y_test = train_test_split(X_reduced, y_data, test_size=0.33)\n",
    "\n",
    "y_train = np.array(label_binarize(y_train, classes=labels))\n",
    "y_test = np.array(label_binarize(y_test, classes=labels))\n",
    "X_train, X_val, y_train, y_val = train_test_split(X_train, y_train, test_size=0.25)"
   ]
  },
  {
   "cell_type": "code",
   "execution_count": null,
   "id": "969d5b69",
   "metadata": {
    "id": "969d5b69",
    "outputId": "ddb9f9a3-530d-4d65-cdec-c1148c6ec93b"
   },
   "outputs": [
    {
     "name": "stdout",
     "output_type": "stream",
     "text": [
      "training set shape (22140, 208)\n",
      "testing set shape (14541, 208)\n",
      "label train set shape (22140, 21)\n",
      "label test set shape (14541, 21)\n"
     ]
    }
   ],
   "source": [
    "print(f'training set shape {X_train.shape}')\n",
    "print(f'testing set shape {X_test.shape}')\n",
    "print(f'label train set shape {y_train.shape}')\n",
    "print(f'label test set shape {y_test.shape}')"
   ]
  },
  {
   "cell_type": "code",
   "execution_count": null,
   "id": "e9ccb7a1",
   "metadata": {
    "id": "e9ccb7a1"
   },
   "outputs": [],
   "source": [
    "# Creating the Sequential Model\n",
    "model = keras.Sequential([\n",
    "    \n",
    "    # Fully-connected layer\n",
    "    layers.Dense(42, activation='relu', input_shape=[X_train.shape[1]]),\n",
    "    layers.Dense(21, activation='softmax'),\n",
    "])\n",
    "\n",
    "model.compile(\n",
    "    optimizer='adam',\n",
    "    loss = 'categorical_crossentropy',\n",
    "    metrics = ['categorical_accuracy'],\n",
    ")"
   ]
  },
  {
   "cell_type": "code",
   "execution_count": null,
   "id": "7cbaada6",
   "metadata": {
    "id": "7cbaada6",
    "outputId": "07f3fd15-0746-4394-8ffa-5c2441f8723d"
   },
   "outputs": [
    {
     "name": "stdout",
     "output_type": "stream",
     "text": [
      "Model: \"sequential_2\"\n",
      "_________________________________________________________________\n",
      " Layer (type)                Output Shape              Param #   \n",
      "=================================================================\n",
      " dense_5 (Dense)             (None, 42)                8778      \n",
      "                                                                 \n",
      " dense_6 (Dense)             (None, 21)                903       \n",
      "                                                                 \n",
      "=================================================================\n",
      "Total params: 9,681\n",
      "Trainable params: 9,681\n",
      "Non-trainable params: 0\n",
      "_________________________________________________________________\n"
     ]
    }
   ],
   "source": [
    "model.summary()"
   ]
  },
  {
   "cell_type": "code",
   "execution_count": null,
   "id": "bedb9391",
   "metadata": {
    "id": "bedb9391",
    "outputId": "5d6db7ba-1b6d-4fa2-8eee-1f765cf819fb"
   },
   "outputs": [
    {
     "name": "stdout",
     "output_type": "stream",
     "text": [
      "Epoch 1/100\n",
      "692/692 [==============================] - 1s 1ms/step - loss: 0.5230 - categorical_accuracy: 0.8839 - val_loss: 0.0606 - val_categorical_accuracy: 0.9932\n",
      "Epoch 2/100\n",
      "692/692 [==============================] - 1s 1ms/step - loss: 0.0343 - categorical_accuracy: 0.9966 - val_loss: 0.0196 - val_categorical_accuracy: 0.9982\n",
      "Epoch 3/100\n",
      "692/692 [==============================] - 1s 1ms/step - loss: 0.0133 - categorical_accuracy: 0.9986 - val_loss: 0.0105 - val_categorical_accuracy: 0.9992\n",
      "Epoch 4/100\n",
      "692/692 [==============================] - 1s 1ms/step - loss: 0.0066 - categorical_accuracy: 0.9995 - val_loss: 0.0065 - val_categorical_accuracy: 0.9995\n",
      "Epoch 5/100\n",
      "692/692 [==============================] - 1s 2ms/step - loss: 0.0036 - categorical_accuracy: 1.0000 - val_loss: 0.0044 - val_categorical_accuracy: 0.9996\n",
      "Epoch 6/100\n",
      "692/692 [==============================] - 1s 2ms/step - loss: 0.0022 - categorical_accuracy: 1.0000 - val_loss: 0.0031 - val_categorical_accuracy: 0.9997\n",
      "Epoch 7/100\n",
      "692/692 [==============================] - 1s 2ms/step - loss: 0.0013 - categorical_accuracy: 1.0000 - val_loss: 0.0023 - val_categorical_accuracy: 0.9999\n",
      "Epoch 8/100\n",
      "692/692 [==============================] - 1s 1ms/step - loss: 8.4034e-04 - categorical_accuracy: 1.0000 - val_loss: 0.0029 - val_categorical_accuracy: 0.9992\n",
      "Epoch 9/100\n",
      "692/692 [==============================] - 1s 2ms/step - loss: 5.8538e-04 - categorical_accuracy: 1.0000 - val_loss: 0.0015 - val_categorical_accuracy: 0.9997\n",
      "Epoch 10/100\n",
      "692/692 [==============================] - 1s 2ms/step - loss: 3.7578e-04 - categorical_accuracy: 1.0000 - val_loss: 0.0012 - val_categorical_accuracy: 0.9999\n",
      "Epoch 11/100\n",
      "692/692 [==============================] - 1s 1ms/step - loss: 2.8817e-04 - categorical_accuracy: 1.0000 - val_loss: 0.0014 - val_categorical_accuracy: 0.9997\n",
      "Epoch 12/100\n",
      "692/692 [==============================] - 1s 2ms/step - loss: 0.0017 - categorical_accuracy: 0.9996 - val_loss: 0.0027 - val_categorical_accuracy: 0.9993\n",
      "Epoch 13/100\n",
      "692/692 [==============================] - 1s 1ms/step - loss: 0.0012 - categorical_accuracy: 0.9997 - val_loss: 0.0012 - val_categorical_accuracy: 0.9996\n",
      "Epoch 14/100\n",
      "692/692 [==============================] - 1s 1ms/step - loss: 2.1956e-04 - categorical_accuracy: 1.0000 - val_loss: 6.7227e-04 - val_categorical_accuracy: 0.9999\n",
      "Epoch 15/100\n",
      "692/692 [==============================] - 1s 2ms/step - loss: 8.5947e-05 - categorical_accuracy: 1.0000 - val_loss: 6.0482e-04 - val_categorical_accuracy: 0.9999\n",
      "Epoch 16/100\n",
      "692/692 [==============================] - 1s 2ms/step - loss: 6.3683e-05 - categorical_accuracy: 1.0000 - val_loss: 5.4282e-04 - val_categorical_accuracy: 0.9999\n",
      "Epoch 17/100\n",
      "692/692 [==============================] - 1s 1ms/step - loss: 4.7205e-05 - categorical_accuracy: 1.0000 - val_loss: 4.7975e-04 - val_categorical_accuracy: 0.9999\n",
      "Epoch 18/100\n",
      "692/692 [==============================] - 1s 1ms/step - loss: 3.5820e-05 - categorical_accuracy: 1.0000 - val_loss: 4.7682e-04 - val_categorical_accuracy: 0.9999\n",
      "Epoch 19/100\n",
      "692/692 [==============================] - 1s 2ms/step - loss: 2.7124e-05 - categorical_accuracy: 1.0000 - val_loss: 4.7936e-04 - val_categorical_accuracy: 0.9999\n",
      "Epoch 20/100\n",
      "692/692 [==============================] - 1s 2ms/step - loss: 2.1364e-05 - categorical_accuracy: 1.0000 - val_loss: 4.1205e-04 - val_categorical_accuracy: 0.9999\n",
      "Epoch 21/100\n",
      "692/692 [==============================] - 1s 2ms/step - loss: 1.5686e-05 - categorical_accuracy: 1.0000 - val_loss: 4.4604e-04 - val_categorical_accuracy: 0.9999\n",
      "Epoch 22/100\n",
      "692/692 [==============================] - 1s 2ms/step - loss: 2.3224e-04 - categorical_accuracy: 1.0000 - val_loss: 0.0207 - val_categorical_accuracy: 0.9974\n",
      "Epoch 23/100\n",
      "692/692 [==============================] - 1s 2ms/step - loss: 0.0031 - categorical_accuracy: 0.9995 - val_loss: 4.9496e-04 - val_categorical_accuracy: 0.9999\n",
      "Epoch 24/100\n",
      "692/692 [==============================] - 1s 2ms/step - loss: 3.7302e-05 - categorical_accuracy: 1.0000 - val_loss: 5.3431e-04 - val_categorical_accuracy: 0.9999\n",
      "Epoch 25/100\n",
      "692/692 [==============================] - 1s 2ms/step - loss: 9.9863e-06 - categorical_accuracy: 1.0000 - val_loss: 4.8577e-04 - val_categorical_accuracy: 0.9999\n",
      "Epoch 26/100\n",
      "692/692 [==============================] - 1s 2ms/step - loss: 7.1254e-06 - categorical_accuracy: 1.0000 - val_loss: 4.7079e-04 - val_categorical_accuracy: 0.9999\n",
      "Epoch 27/100\n",
      "692/692 [==============================] - 1s 2ms/step - loss: 5.5355e-06 - categorical_accuracy: 1.0000 - val_loss: 4.9313e-04 - val_categorical_accuracy: 0.9999\n",
      "Epoch 28/100\n",
      "692/692 [==============================] - 1s 2ms/step - loss: 4.4202e-06 - categorical_accuracy: 1.0000 - val_loss: 4.8433e-04 - val_categorical_accuracy: 0.9999\n"
     ]
    }
   ],
   "source": [
    "from tensorflow.keras.callbacks import EarlyStopping\n",
    "\n",
    "early_stopping = EarlyStopping(\n",
    "    min_delta=0.001, # minimium amount of change to count as an improvement\n",
    "    patience=10, # how many epochs to wait before stopping\n",
    "    restore_best_weights=True,\n",
    ")\n",
    "\n",
    "history = model.fit(\n",
    "    X_train, y_train,\n",
    "    validation_data=(X_val, y_val),\n",
    "    batch_size=32,\n",
    "    epochs=100,\n",
    "    shuffle=True,\n",
    "    callbacks=[early_stopping],\n",
    ")"
   ]
  },
  {
   "cell_type": "code",
   "execution_count": null,
   "id": "fb630d9d",
   "metadata": {
    "id": "fb630d9d",
    "outputId": "6664a1a3-1445-4f99-c509-449b1b9713bd"
   },
   "outputs": [
    {
     "name": "stdout",
     "output_type": "stream",
     "text": [
      "Best Validation Loss: 0.0004\n",
      "Best Validation Accuracy: 0.9999\n"
     ]
    },
    {
     "data": {
      "image/png": "[encoded data removed]",
      "text/plain": [
       "<Figure size 640x480 with 1 Axes>"
      ]
     },
     "metadata": {},
     "output_type": "display_data"
    },
    {
     "data": {
      "image/png": "[encoded data removed]",
      "text/plain": [
       "<Figure size 640x480 with 1 Axes>"
      ]
     },
     "metadata": {},
     "output_type": "display_data"
    }
   ],
   "source": [
    "# Estatística do modelo\n",
    "history_df = pd.DataFrame(history.history)\n",
    "history_df.loc[1:, ['loss', 'val_loss']].plot()\n",
    "history_df.loc[1:, ['categorical_accuracy', 'val_categorical_accuracy']].plot()\n",
    "\n",
    "print((\"Best Validation Loss: {:0.4f}\" +\\\n",
    "      \"\\nBest Validation Accuracy: {:0.4f}\")\\\n",
    "      .format(history_df['val_loss'].min(), \n",
    "              history_df['val_categorical_accuracy'].max()))"
   ]
  },
  {
   "cell_type": "code",
   "execution_count": null,
   "id": "5b05f050",
   "metadata": {
    "id": "5b05f050",
    "outputId": "be219082-7a4f-4c2e-9bd8-e96485e821f5"
   },
   "outputs": [
    {
     "name": "stdout",
     "output_type": "stream",
     "text": [
      "455/455 [==============================] - 0s 714us/step\n"
     ]
    }
   ],
   "source": [
    "# Decoding predições e labels de test por hard voting \n",
    "argy_test = [np.argmax(i) for i in y_test]\n",
    "argy_pred = [np.argmax(i) for i in model.predict(X_test)]"
   ]
  },
  {
   "cell_type": "code",
   "execution_count": null,
   "id": "26982d0f",
   "metadata": {
    "id": "26982d0f",
    "outputId": "28221ec5-ec37-4da8-83cd-55ce2cf2317b"
   },
   "outputs": [
    {
     "name": "stdout",
     "output_type": "stream",
     "text": [
      "EfficentNetB3 score on test set: 0.9995873736331752\n"
     ]
    }
   ],
   "source": [
    "# Resultado nos dados de test\n",
    "\n",
    "print(f'EfficentNetB3 score on test set: {accuracy_score(argy_test, argy_pred)}')"
   ]
  },
  {
   "cell_type": "markdown",
   "id": "96566dbe",
   "metadata": {
    "id": "96566dbe"
   },
   "source": [
    "### Testando com MobileNet"
   ]
  },
  {
   "cell_type": "code",
   "execution_count": null,
   "id": "64a6895d",
   "metadata": {
    "id": "64a6895d",
    "outputId": "4e56ff1f-90e7-4abe-c6f9-57ca8f66b56b"
   },
   "outputs": [
    {
     "name": "stdout",
     "output_type": "stream",
     "text": [
      "WARNING:tensorflow:`input_shape` is undefined or non-square, or `rows` is not in [96, 128, 160, 192, 224]. Weights for input shape (224, 224) will be loaded as the default.\n"
     ]
    }
   ],
   "source": [
    "import tensorflow.keras.applications as apps\n",
    "from tensorflow import keras\n",
    "from tensorflow.keras import layers\n",
    "\n",
    "model = apps.MobileNetV2(input_shape=(64, 64, 3), include_top=False, weights='imagenet')\n",
    "model = Model(inputs=model.input, outputs=model.get_layer(index=-1).output)\n",
    "model.trainable = False"
   ]
  },
  {
   "cell_type": "code",
   "execution_count": null,
   "id": "8b89c33a",
   "metadata": {
    "id": "8b89c33a",
    "outputId": "f1c0ecfc-8420-4347-8636-e95c61e39b5d"
   },
   "outputs": [
    {
     "name": "stdout",
     "output_type": "stream",
     "text": [
      "Model output (None, 2, 2, 1280)\n"
     ]
    }
   ],
   "source": [
    "print(\"Model output\", model.output.shape)"
   ]
  },
  {
   "cell_type": "code",
   "execution_count": null,
   "id": "ee9f9cb8",
   "metadata": {
    "id": "ee9f9cb8",
    "outputId": "a6158d5e-ee40-422f-efdf-2b6ffb363a22"
   },
   "outputs": [
    {
     "name": "stdout",
     "output_type": "stream",
     "text": [
      "1/1 [==============================] - 0s 475ms/step\n"
     ]
    }
   ],
   "source": [
    "preds = model.predict(X_data[0:5])"
   ]
  },
  {
   "cell_type": "code",
   "execution_count": null,
   "id": "36dab920",
   "metadata": {
    "id": "36dab920",
    "outputId": "9203fc4a-3871-4a10-d302-31d413bd62ef"
   },
   "outputs": [
    {
     "name": "stdout",
     "output_type": "stream",
     "text": [
      "prediction shape (2, 2, 1280)\n"
     ]
    }
   ],
   "source": [
    "print(\"prediction shape\", np.array(preds[0]).shape)"
   ]
  },
  {
   "cell_type": "code",
   "execution_count": null,
   "id": "af783df9",
   "metadata": {
    "id": "af783df9",
    "outputId": "1fa44f97-6b89-41a3-b7dd-543e27230489"
   },
   "outputs": [
    {
     "name": "stdout",
     "output_type": "stream",
     "text": [
      "predshape: 5120\n"
     ]
    }
   ],
   "source": [
    "Predshape = np.array(preds[0]).reshape(-1).shape[0]\n",
    "print(f\"predshape: {Predshape}\")"
   ]
  },
  {
   "cell_type": "code",
   "execution_count": null,
   "id": "52b7d406",
   "metadata": {
    "id": "52b7d406",
    "outputId": "5b7f7e3f-fa6f-4a2d-b2da-912519ab5259"
   },
   "outputs": [
    {
     "name": "stdout",
     "output_type": "stream",
     "text": [
      "Feature extraction ...\n",
      "1377/1377 [==============================] - 30s 22ms/step\n",
      "\tFeatures data shape:  (44062, 5120)\n"
     ]
    }
   ],
   "source": [
    "# Extração de features\n",
    "print(\"Feature extraction ...\")\n",
    "prediction = np.array(model.predict(X_data))\n",
    "featuresData = np.reshape(prediction, (prediction.shape[0], Predshape))\n",
    "\n",
    "print('\\tFeatures data shape: ', featuresData.shape)"
   ]
  },
  {
   "cell_type": "code",
   "execution_count": null,
   "id": "f3112968",
   "metadata": {
    "id": "f3112968",
    "outputId": "26b9a50c-bb6f-4a45-edb0-0807cb805f51"
   },
   "outputs": [
    {
     "name": "stdout",
     "output_type": "stream",
     "text": [
      "X_reduced shape:  (44062, 243)\n"
     ]
    }
   ],
   "source": [
    "from sklearn.decomposition import PCA\n",
    "\n",
    "pca = PCA(n_components=0.95)\n",
    "X_reduced = pca.fit_transform(featuresData)\n",
    "\n",
    "print('X_reduced shape: ', X_reduced.shape)"
   ]
  },
  {
   "cell_type": "code",
   "execution_count": null,
   "id": "7ccb04b2",
   "metadata": {
    "id": "7ccb04b2"
   },
   "outputs": [],
   "source": [
    "from sklearn.preprocessing import label_binarize\n",
    "labels = [i for i in range(0, 21)]\n",
    "\n",
    "X_train, X_test, y_train, y_test = train_test_split(X_reduced, y_data, test_size=0.33)\n",
    "\n",
    "y_train = np.array(label_binarize(y_train, classes=labels))\n",
    "y_test = np.array(label_binarize(y_test, classes=labels))\n",
    "X_train, X_val, y_train, y_val = train_test_split(X_train, y_train, test_size=0.25)"
   ]
  },
  {
   "cell_type": "code",
   "execution_count": null,
   "id": "d322f9b3",
   "metadata": {
    "id": "d322f9b3",
    "outputId": "c6c259af-0ca3-48d7-8eb7-0428891b4fa1"
   },
   "outputs": [
    {
     "name": "stdout",
     "output_type": "stream",
     "text": [
      "training set shape (22140, 243)\n",
      "testing set shape (14541, 243)\n",
      "label train set shape (22140, 21)\n",
      "label test set shape (14541, 21)\n"
     ]
    }
   ],
   "source": [
    "print(f'training set shape {X_train.shape}')\n",
    "print(f'testing set shape {X_test.shape}')\n",
    "print(f'label train set shape {y_train.shape}')\n",
    "print(f'label test set shape {y_test.shape}')"
   ]
  },
  {
   "cell_type": "code",
   "execution_count": null,
   "id": "58f36d9c",
   "metadata": {
    "id": "58f36d9c"
   },
   "outputs": [],
   "source": [
    "# Creating the Sequential Model\n",
    "model = keras.Sequential([\n",
    "    \n",
    "    # Fully-connected layer\n",
    "    layers.Dense(42, activation='relu', input_shape=[X_train.shape[1]]),\n",
    "    layers.Dense(21, activation='softmax'),\n",
    "])\n",
    "\n",
    "model.compile(\n",
    "    optimizer='adam',\n",
    "    loss = 'categorical_crossentropy',\n",
    "    metrics = ['categorical_accuracy'],\n",
    ")"
   ]
  },
  {
   "cell_type": "code",
   "execution_count": null,
   "id": "5b75bf2f",
   "metadata": {
    "id": "5b75bf2f",
    "outputId": "269348ba-1096-4acb-be82-e2763239dd4d"
   },
   "outputs": [
    {
     "name": "stdout",
     "output_type": "stream",
     "text": [
      "Model: \"sequential_3\"\n",
      "_________________________________________________________________\n",
      " Layer (type)                Output Shape              Param #   \n",
      "=================================================================\n",
      " dense_7 (Dense)             (None, 42)                10248     \n",
      "                                                                 \n",
      " dense_8 (Dense)             (None, 21)                903       \n",
      "                                                                 \n",
      "=================================================================\n",
      "Total params: 11,151\n",
      "Trainable params: 11,151\n",
      "Non-trainable params: 0\n",
      "_________________________________________________________________\n"
     ]
    }
   ],
   "source": [
    "model.summary()"
   ]
  },
  {
   "cell_type": "code",
   "execution_count": null,
   "id": "d7e08c21",
   "metadata": {
    "id": "d7e08c21",
    "outputId": "a6f99dd9-0141-478e-ecde-a278050b025e"
   },
   "outputs": [
    {
     "name": "stdout",
     "output_type": "stream",
     "text": [
      "Epoch 1/100\n",
      "692/692 [==============================] - 1s 1ms/step - loss: 1.7281 - categorical_accuracy: 0.5024 - val_loss: 1.0013 - val_categorical_accuracy: 0.6889\n",
      "Epoch 2/100\n",
      "692/692 [==============================] - 1s 2ms/step - loss: 0.8023 - categorical_accuracy: 0.7533 - val_loss: 0.7438 - val_categorical_accuracy: 0.7647\n",
      "Epoch 3/100\n",
      "692/692 [==============================] - 1s 1ms/step - loss: 0.6073 - categorical_accuracy: 0.8091 - val_loss: 0.6454 - val_categorical_accuracy: 0.7938\n",
      "Epoch 4/100\n",
      "692/692 [==============================] - 1s 2ms/step - loss: 0.5107 - categorical_accuracy: 0.8365 - val_loss: 0.6110 - val_categorical_accuracy: 0.7979\n",
      "Epoch 5/100\n",
      "692/692 [==============================] - 1s 2ms/step - loss: 0.4458 - categorical_accuracy: 0.8567 - val_loss: 0.5883 - val_categorical_accuracy: 0.8098\n",
      "Epoch 6/100\n",
      "692/692 [==============================] - 1s 2ms/step - loss: 0.4044 - categorical_accuracy: 0.8692 - val_loss: 0.5771 - val_categorical_accuracy: 0.8143\n",
      "Epoch 7/100\n",
      "692/692 [==============================] - 1s 1ms/step - loss: 0.3688 - categorical_accuracy: 0.8794 - val_loss: 0.5696 - val_categorical_accuracy: 0.8164\n",
      "Epoch 8/100\n",
      "692/692 [==============================] - 1s 2ms/step - loss: 0.3402 - categorical_accuracy: 0.8883 - val_loss: 0.5702 - val_categorical_accuracy: 0.8202\n",
      "Epoch 9/100\n",
      "692/692 [==============================] - 1s 1ms/step - loss: 0.3171 - categorical_accuracy: 0.8977 - val_loss: 0.5670 - val_categorical_accuracy: 0.8213\n",
      "Epoch 10/100\n",
      "692/692 [==============================] - 1s 2ms/step - loss: 0.2947 - categorical_accuracy: 0.9039 - val_loss: 0.5787 - val_categorical_accuracy: 0.8213\n",
      "Epoch 11/100\n",
      "692/692 [==============================] - 1s 1ms/step - loss: 0.2783 - categorical_accuracy: 0.9108 - val_loss: 0.5896 - val_categorical_accuracy: 0.8193\n",
      "Epoch 12/100\n",
      "692/692 [==============================] - 1s 2ms/step - loss: 0.2624 - categorical_accuracy: 0.9145 - val_loss: 0.5997 - val_categorical_accuracy: 0.8191\n",
      "Epoch 13/100\n",
      "692/692 [==============================] - 1s 2ms/step - loss: 0.2476 - categorical_accuracy: 0.9203 - val_loss: 0.5993 - val_categorical_accuracy: 0.8221\n",
      "Epoch 14/100\n",
      "692/692 [==============================] - 1s 2ms/step - loss: 0.2344 - categorical_accuracy: 0.9240 - val_loss: 0.6002 - val_categorical_accuracy: 0.8250\n",
      "Epoch 15/100\n",
      "692/692 [==============================] - 1s 2ms/step - loss: 0.2239 - categorical_accuracy: 0.9281 - val_loss: 0.6160 - val_categorical_accuracy: 0.8228\n",
      "Epoch 16/100\n",
      "692/692 [==============================] - 1s 2ms/step - loss: 0.2132 - categorical_accuracy: 0.9318 - val_loss: 0.6318 - val_categorical_accuracy: 0.8189\n",
      "Epoch 17/100\n",
      "692/692 [==============================] - 1s 2ms/step - loss: 0.2031 - categorical_accuracy: 0.9359 - val_loss: 0.6361 - val_categorical_accuracy: 0.8186\n",
      "Epoch 18/100\n",
      "692/692 [==============================] - 1s 2ms/step - loss: 0.1958 - categorical_accuracy: 0.9355 - val_loss: 0.6535 - val_categorical_accuracy: 0.8182\n",
      "Epoch 19/100\n",
      "692/692 [==============================] - 1s 2ms/step - loss: 0.1868 - categorical_accuracy: 0.9401 - val_loss: 0.6790 - val_categorical_accuracy: 0.8128\n"
     ]
    }
   ],
   "source": [
    "from tensorflow.keras.callbacks import EarlyStopping\n",
    "\n",
    "early_stopping = EarlyStopping(\n",
    "    min_delta=0.001, # minimium amount of change to count as an improvement\n",
    "    patience=10, # how many epochs to wait before stopping\n",
    "    restore_best_weights=True,\n",
    ")\n",
    "\n",
    "history = model.fit(\n",
    "    X_train, y_train,\n",
    "    validation_data=(X_val, y_val),\n",
    "    batch_size=32,\n",
    "    epochs=100,\n",
    "    shuffle=True,\n",
    "    callbacks=[early_stopping],\n",
    ")"
   ]
  },
  {
   "cell_type": "code",
   "execution_count": null,
   "id": "13475720",
   "metadata": {
    "id": "13475720",
    "outputId": "3abfe69c-d2a4-4553-df07-2b3a1d658d7f"
   },
   "outputs": [
    {
     "name": "stdout",
     "output_type": "stream",
     "text": [
      "Best Validation Loss: 0.5670\n",
      "Best Validation Accuracy: 0.8250\n"
     ]
    },
    {
     "data": {
      "image/png": "[encoded data removed]",
      "text/plain": [
       "<Figure size 640x480 with 1 Axes>"
      ]
     },
     "metadata": {},
     "output_type": "display_data"
    },
    {
     "data": {
      "image/png": "[encoded data removed]",
      "text/plain": [
       "<Figure size 640x480 with 1 Axes>"
      ]
     },
     "metadata": {},
     "output_type": "display_data"
    }
   ],
   "source": [
    "# Estatística do modelo\n",
    "history_df = pd.DataFrame(history.history)\n",
    "history_df.loc[1:, ['loss', 'val_loss']].plot()\n",
    "history_df.loc[1:, ['categorical_accuracy', 'val_categorical_accuracy']].plot()\n",
    "\n",
    "print((\"Best Validation Loss: {:0.4f}\" +\\\n",
    "      \"\\nBest Validation Accuracy: {:0.4f}\")\\\n",
    "      .format(history_df['val_loss'].min(), \n",
    "              history_df['val_categorical_accuracy'].max()))"
   ]
  },
  {
   "cell_type": "code",
   "execution_count": null,
   "id": "6e1411cb",
   "metadata": {
    "id": "6e1411cb",
    "outputId": "fceb6716-5c73-43f9-f316-66006b0baa68"
   },
   "outputs": [
    {
     "name": "stdout",
     "output_type": "stream",
     "text": [
      "455/455 [==============================] - 0s 963us/step\n"
     ]
    }
   ],
   "source": [
    "# Decoding predições e labels de test por hard voting \n",
    "argy_test = [np.argmax(i) for i in y_test]\n",
    "argy_pred = [np.argmax(i) for i in model.predict(X_test)]"
   ]
  },
  {
   "cell_type": "code",
   "execution_count": null,
   "id": "ed7f7ddd",
   "metadata": {
    "id": "ed7f7ddd",
    "outputId": "d8e651f5-c4a3-4497-e914-ffce1c44a58f",
    "scrolled": true
   },
   "outputs": [
    {
     "name": "stdout",
     "output_type": "stream",
     "text": [
      "MobileNet score on test set: 0.8268344680558422\n"
     ]
    }
   ],
   "source": [
    "# Resultado nos dados de test\n",
    "\n",
    "print(f'MobileNet score on test set: {accuracy_score(argy_test, argy_pred)}')"
   ]
  },
  {
   "cell_type": "markdown",
   "id": "16cb42f4",
   "metadata": {
    "id": "16cb42f4"
   },
   "source": [
    "### Testando com DenseNet169"
   ]
  },
  {
   "cell_type": "code",
   "execution_count": null,
   "id": "d5cfbfb0",
   "metadata": {
    "id": "d5cfbfb0"
   },
   "outputs": [],
   "source": [
    "import tensorflow.keras.applications as apps\n",
    "from tensorflow import keras\n",
    "from tensorflow.keras import layers\n",
    "\n",
    "model = apps.DenseNet169(include_top=False, weights='imagenet', input_shape=(64, 64, 3)) \n",
    "model = Model(inputs=model.input, outputs=model.get_layer(index=-1).output)\n",
    "model.trainable = False"
   ]
  },
  {
   "cell_type": "code",
   "execution_count": null,
   "id": "2232294f",
   "metadata": {
    "id": "2232294f",
    "outputId": "10873278-a4cd-4587-b5f7-091362b51b0d"
   },
   "outputs": [
    {
     "name": "stdout",
     "output_type": "stream",
     "text": [
      "Model output (None, 2, 2, 1664)\n"
     ]
    }
   ],
   "source": [
    "print(\"Model output\", model.output.shape)"
   ]
  },
  {
   "cell_type": "code",
   "execution_count": null,
   "id": "f16e6620",
   "metadata": {
    "id": "f16e6620",
    "outputId": "c973f07f-e0fc-42cb-e5a6-000fb0982aed"
   },
   "outputs": [
    {
     "name": "stdout",
     "output_type": "stream",
     "text": [
      "1/1 [==============================] - 2s 2s/step\n"
     ]
    }
   ],
   "source": [
    "preds = model.predict(X_data[0:5])"
   ]
  },
  {
   "cell_type": "code",
   "execution_count": null,
   "id": "059b5438",
   "metadata": {
    "id": "059b5438",
    "outputId": "12623032-f9be-4f4c-c0f0-6f14b8e8978b"
   },
   "outputs": [
    {
     "name": "stdout",
     "output_type": "stream",
     "text": [
      "prediction shape (2, 2, 1664)\n"
     ]
    }
   ],
   "source": [
    "print(\"prediction shape\", np.array(preds[0]).shape)"
   ]
  },
  {
   "cell_type": "code",
   "execution_count": null,
   "id": "990335c1",
   "metadata": {
    "id": "990335c1",
    "outputId": "34b26c0c-2585-42dc-a78b-07b26c4f3078"
   },
   "outputs": [
    {
     "name": "stdout",
     "output_type": "stream",
     "text": [
      "predshape: 6656\n"
     ]
    }
   ],
   "source": [
    "Predshape = np.array(preds[0]).reshape(-1).shape[0]\n",
    "print(f\"predshape: {Predshape}\")"
   ]
  },
  {
   "cell_type": "code",
   "execution_count": null,
   "id": "8983bd71",
   "metadata": {
    "id": "8983bd71",
    "outputId": "f93b0d71-e090-43e3-d454-e1259ed77d5c"
   },
   "outputs": [
    {
     "name": "stdout",
     "output_type": "stream",
     "text": [
      "Feature extraction ...\n",
      "1377/1377 [==============================] - 165s 120ms/step\n",
      "\tFeatures data shape:  (44062, 6656)\n"
     ]
    }
   ],
   "source": [
    "# Extração de features\n",
    "print(\"Feature extraction ...\")\n",
    "prediction = np.array(model.predict(X_data))\n",
    "featuresData = np.reshape(prediction, (prediction.shape[0], Predshape))\n",
    "\n",
    "print('\\tFeatures data shape: ', featuresData.shape)"
   ]
  },
  {
   "cell_type": "code",
   "execution_count": null,
   "id": "fcd02b81",
   "metadata": {
    "id": "fcd02b81",
    "outputId": "0c8cb551-4ca2-42ed-cb62-e44ae685f8e1"
   },
   "outputs": [
    {
     "name": "stdout",
     "output_type": "stream",
     "text": [
      "X_reduced shape:  (44062, 68)\n"
     ]
    }
   ],
   "source": [
    "from sklearn.decomposition import PCA\n",
    "\n",
    "pca = PCA(n_components=0.95)\n",
    "X_reduced = pca.fit_transform(featuresData)\n",
    "\n",
    "print('X_reduced shape: ', X_reduced.shape)"
   ]
  },
  {
   "cell_type": "code",
   "execution_count": null,
   "id": "d49870f2",
   "metadata": {
    "id": "d49870f2"
   },
   "outputs": [],
   "source": [
    "from sklearn.preprocessing import label_binarize\n",
    "labels = [i for i in range(0, 21)]\n",
    "\n",
    "X_train, X_test, y_train, y_test = train_test_split(X_reduced, y_data, test_size=0.33)\n",
    "\n",
    "y_train = np.array(label_binarize(y_train, classes=labels))\n",
    "y_test = np.array(label_binarize(y_test, classes=labels))\n",
    "X_train, X_val, y_train, y_val = train_test_split(X_train, y_train, test_size=0.25)"
   ]
  },
  {
   "cell_type": "code",
   "execution_count": null,
   "id": "a0bfbcfc",
   "metadata": {
    "id": "a0bfbcfc",
    "outputId": "9a16e916-3651-44be-da0f-480a284c2200"
   },
   "outputs": [
    {
     "name": "stdout",
     "output_type": "stream",
     "text": [
      "training set shape (22140, 68)\n",
      "testing set shape (14541, 68)\n",
      "label train set shape (22140, 21)\n",
      "label test set shape (14541, 21)\n"
     ]
    }
   ],
   "source": [
    "print(f'training set shape {X_train.shape}')\n",
    "print(f'testing set shape {X_test.shape}')\n",
    "print(f'label train set shape {y_train.shape}')\n",
    "print(f'label test set shape {y_test.shape}')"
   ]
  },
  {
   "cell_type": "code",
   "execution_count": null,
   "id": "e290d142",
   "metadata": {
    "id": "e290d142"
   },
   "outputs": [],
   "source": [
    "# Creating the Sequential Model\n",
    "model = keras.Sequential([\n",
    "    \n",
    "    # Fully-connected layer\n",
    "    layers.Dense(42, activation='relu', input_shape=[X_train.shape[1]]),\n",
    "    layers.Dense(21, activation='softmax'),\n",
    "])\n",
    "\n",
    "model.compile(\n",
    "    optimizer='adam',\n",
    "    loss = 'categorical_crossentropy',\n",
    "    metrics = ['categorical_accuracy'],\n",
    ")"
   ]
  },
  {
   "cell_type": "code",
   "execution_count": null,
   "id": "395bbee4",
   "metadata": {
    "id": "395bbee4",
    "outputId": "fc7c7152-b884-43ea-9963-6990fb8c2427"
   },
   "outputs": [
    {
     "name": "stdout",
     "output_type": "stream",
     "text": [
      "Model: \"sequential_4\"\n",
      "_________________________________________________________________\n",
      " Layer (type)                Output Shape              Param #   \n",
      "=================================================================\n",
      " dense_9 (Dense)             (None, 42)                2898      \n",
      "                                                                 \n",
      " dense_10 (Dense)            (None, 21)                903       \n",
      "                                                                 \n",
      "=================================================================\n",
      "Total params: 3,801\n",
      "Trainable params: 3,801\n",
      "Non-trainable params: 0\n",
      "_________________________________________________________________\n"
     ]
    }
   ],
   "source": [
    "model.summary()"
   ]
  },
  {
   "cell_type": "code",
   "execution_count": null,
   "id": "31f6a8b4",
   "metadata": {
    "id": "31f6a8b4",
    "outputId": "ddb9dab3-f6cd-4a45-f538-877bba850314"
   },
   "outputs": [
    {
     "name": "stdout",
     "output_type": "stream",
     "text": [
      "Epoch 1/100\n",
      "692/692 [==============================] - 1s 2ms/step - loss: 6.8258 - categorical_accuracy: 0.6546 - val_loss: 0.9017 - val_categorical_accuracy: 0.8622\n",
      "Epoch 2/100\n",
      "692/692 [==============================] - 1s 2ms/step - loss: 0.5143 - categorical_accuracy: 0.9025 - val_loss: 0.3682 - val_categorical_accuracy: 0.9228\n",
      "Epoch 3/100\n",
      "692/692 [==============================] - 1s 2ms/step - loss: 0.2302 - categorical_accuracy: 0.9432 - val_loss: 0.2318 - val_categorical_accuracy: 0.9430\n",
      "Epoch 4/100\n",
      "692/692 [==============================] - 1s 2ms/step - loss: 0.1336 - categorical_accuracy: 0.9623 - val_loss: 0.1395 - val_categorical_accuracy: 0.9621\n",
      "Epoch 5/100\n",
      "692/692 [==============================] - 1s 1ms/step - loss: 0.0900 - categorical_accuracy: 0.9737 - val_loss: 0.1454 - val_categorical_accuracy: 0.9640\n",
      "Epoch 6/100\n",
      "692/692 [==============================] - 1s 1ms/step - loss: 0.0752 - categorical_accuracy: 0.9774 - val_loss: 0.1342 - val_categorical_accuracy: 0.9644\n",
      "Epoch 7/100\n",
      "692/692 [==============================] - 1s 2ms/step - loss: 0.0551 - categorical_accuracy: 0.9841 - val_loss: 0.0948 - val_categorical_accuracy: 0.9753\n",
      "Epoch 8/100\n",
      "692/692 [==============================] - 1s 1ms/step - loss: 0.0521 - categorical_accuracy: 0.9852 - val_loss: 0.0936 - val_categorical_accuracy: 0.9751\n",
      "Epoch 9/100\n",
      "692/692 [==============================] - 1s 1ms/step - loss: 0.0513 - categorical_accuracy: 0.9843 - val_loss: 0.0737 - val_categorical_accuracy: 0.9809\n",
      "Epoch 10/100\n",
      "692/692 [==============================] - 1s 2ms/step - loss: 0.0405 - categorical_accuracy: 0.9875 - val_loss: 0.0682 - val_categorical_accuracy: 0.9814\n",
      "Epoch 11/100\n",
      "692/692 [==============================] - 1s 2ms/step - loss: 0.0331 - categorical_accuracy: 0.9900 - val_loss: 0.0615 - val_categorical_accuracy: 0.9827\n",
      "Epoch 12/100\n",
      "692/692 [==============================] - 1s 2ms/step - loss: 0.0313 - categorical_accuracy: 0.9913 - val_loss: 0.0779 - val_categorical_accuracy: 0.9801\n",
      "Epoch 13/100\n",
      "692/692 [==============================] - 1s 1ms/step - loss: 0.0333 - categorical_accuracy: 0.9899 - val_loss: 0.0856 - val_categorical_accuracy: 0.9795\n",
      "Epoch 14/100\n",
      "692/692 [==============================] - 1s 1ms/step - loss: 0.0255 - categorical_accuracy: 0.9923 - val_loss: 0.0661 - val_categorical_accuracy: 0.9831\n",
      "Epoch 15/100\n",
      "692/692 [==============================] - 1s 1ms/step - loss: 0.0261 - categorical_accuracy: 0.9921 - val_loss: 0.0626 - val_categorical_accuracy: 0.9843\n",
      "Epoch 16/100\n",
      "692/692 [==============================] - 1s 2ms/step - loss: 0.0218 - categorical_accuracy: 0.9939 - val_loss: 0.0769 - val_categorical_accuracy: 0.9814\n",
      "Epoch 17/100\n",
      "692/692 [==============================] - 1s 2ms/step - loss: 0.0289 - categorical_accuracy: 0.9922 - val_loss: 0.0649 - val_categorical_accuracy: 0.9835\n",
      "Epoch 18/100\n",
      "692/692 [==============================] - 1s 1ms/step - loss: 0.0176 - categorical_accuracy: 0.9947 - val_loss: 0.0625 - val_categorical_accuracy: 0.9847\n",
      "Epoch 19/100\n",
      "692/692 [==============================] - 1s 2ms/step - loss: 0.0259 - categorical_accuracy: 0.9929 - val_loss: 0.0890 - val_categorical_accuracy: 0.9821\n",
      "Epoch 20/100\n",
      "692/692 [==============================] - 1s 1ms/step - loss: 0.0185 - categorical_accuracy: 0.9951 - val_loss: 0.0677 - val_categorical_accuracy: 0.9840\n",
      "Epoch 21/100\n",
      "692/692 [==============================] - 1s 2ms/step - loss: 0.0202 - categorical_accuracy: 0.9949 - val_loss: 0.1126 - val_categorical_accuracy: 0.9793\n"
     ]
    }
   ],
   "source": [
    "from tensorflow.keras.callbacks import EarlyStopping\n",
    "\n",
    "early_stopping = EarlyStopping(\n",
    "    min_delta=0.001, # minimium amount of change to count as an improvement\n",
    "    patience=10, # how many epochs to wait before stopping\n",
    "    restore_best_weights=True,\n",
    ")\n",
    "\n",
    "history = model.fit(\n",
    "    X_train, y_train,\n",
    "    validation_data=(X_val, y_val),\n",
    "    batch_size=32,\n",
    "    epochs=100,\n",
    "    shuffle=True,\n",
    "    callbacks=[early_stopping],\n",
    ")"
   ]
  },
  {
   "cell_type": "code",
   "execution_count": null,
   "id": "619b11cb",
   "metadata": {
    "id": "619b11cb",
    "outputId": "45e7c538-3a4e-4627-e2a3-53fcd77cf965"
   },
   "outputs": [
    {
     "name": "stdout",
     "output_type": "stream",
     "text": [
      "Best Validation Loss: 0.0615\n",
      "Best Validation Accuracy: 0.9847\n"
     ]
    },
    {
     "data": {
      "image/png": "[encoded data removed]",
      "text/plain": [
       "<Figure size 640x480 with 1 Axes>"
      ]
     },
     "metadata": {},
     "output_type": "display_data"
    },
    {
     "data": {
      "image/png": "[encoded data removed]",
      "text/plain": [
       "<Figure size 640x480 with 1 Axes>"
      ]
     },
     "metadata": {},
     "output_type": "display_data"
    }
   ],
   "source": [
    "# Estatística do modelo\n",
    "history_df = pd.DataFrame(history.history)\n",
    "history_df.loc[1:, ['loss', 'val_loss']].plot()\n",
    "history_df.loc[1:, ['categorical_accuracy', 'val_categorical_accuracy']].plot()\n",
    "\n",
    "print((\"Best Validation Loss: {:0.4f}\" +\\\n",
    "      \"\\nBest Validation Accuracy: {:0.4f}\")\\\n",
    "      .format(history_df['val_loss'].min(), \n",
    "              history_df['val_categorical_accuracy'].max()))"
   ]
  },
  {
   "cell_type": "code",
   "execution_count": null,
   "id": "474694bd",
   "metadata": {
    "id": "474694bd",
    "outputId": "ffad3047-190d-426d-9d44-ab8e95cc9d13"
   },
   "outputs": [
    {
     "name": "stdout",
     "output_type": "stream",
     "text": [
      "455/455 [==============================] - 0s 774us/step\n"
     ]
    }
   ],
   "source": [
    "# Decoding predições e labels de test por hard voting \n",
    "argy_test = [np.argmax(i) for i in y_test]\n",
    "argy_pred = [np.argmax(i) for i in model.predict(X_test)]"
   ]
  },
  {
   "cell_type": "code",
   "execution_count": null,
   "id": "72dfa768",
   "metadata": {
    "id": "72dfa768",
    "outputId": "d6b05c00-0880-4b8f-be58-087424d1c98c",
    "scrolled": true
   },
   "outputs": [
    {
     "name": "stdout",
     "output_type": "stream",
     "text": [
      "DenseNet169 score on test set: 0.9845265112440685\n"
     ]
    }
   ],
   "source": [
    "# Resultado nos dados de test\n",
    "\n",
    "print(f'DenseNet169 score on test set: {accuracy_score(argy_test, argy_pred)}')"
   ]
  },
  {
   "cell_type": "markdown",
   "id": "a50a6860",
   "metadata": {
    "id": "a50a6860"
   },
   "source": [
    "## Resultados:\n",
    "### VGG: val_loss = 0.0153, val_categorical_accuracy = 99.88%, test_score = 99.68%\n",
    "### ResNetV2: val_loss = 0.0012, val_categorical_accuracy = 99.97%, test_score = 99.94% \n",
    "### EfficientNetB3: val_loss = 0.0004, val_categorical_accuracy = 99.99%, test_score = 99.96%\n",
    "### MobileNet: val_loss = 0.5670, val_categoricla_accuracy = 82.50%, test_score = 82.68%\n",
    "### DenseNet169: val_loss = 0.0615, val_categorical_accuracy = 98,47%, test_score = 98,45%"
   ]
  }
 ],
 "metadata": {
  "accelerator": "GPU",
  "colab": {
   "gpuType": "T4",
   "provenance": []
  },
  "gpuClass": "standard",
  "kernelspec": {
   "display_name": "Python 3 (ipykernel)",
   "language": "python",
   "name": "python3"
  },
  "language_info": {
   "codemirror_mode": {
    "name": "ipython",
    "version": 3
   },
   "file_extension": ".py",
   "mimetype": "text/x-python",
   "name": "python",
   "nbconvert_exporter": "python",
   "pygments_lexer": "ipython3",
   "version": "3.9.7"
  }
 },
 "nbformat": 4,
 "nbformat_minor": 5
}
