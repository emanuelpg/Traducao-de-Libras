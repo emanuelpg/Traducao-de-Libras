{
 "cells": [
  {
   "cell_type": "code",
   "execution_count": 1,
   "id": "ade54f91",
   "metadata": {},
   "outputs": [
    {
     "name": "stderr",
     "output_type": "stream",
     "text": [
      "2023-05-05 12:51:40.599597: I tensorflow/core/platform/cpu_feature_guard.cc:193] This TensorFlow binary is optimized with oneAPI Deep Neural Network Library (oneDNN) to use the following CPU instructions in performance-critical operations:  AVX2 FMA\n",
      "To enable them in other operations, rebuild TensorFlow with the appropriate compiler flags.\n",
      "2023-05-05 12:51:40.923204: W tensorflow/compiler/xla/stream_executor/platform/default/dso_loader.cc:64] Could not load dynamic library 'libcudart.so.11.0'; dlerror: libcudart.so.11.0: cannot open shared object file: No such file or directory; LD_LIBRARY_PATH: /opt/ros/noetic/lib\n",
      "2023-05-05 12:51:40.923224: I tensorflow/compiler/xla/stream_executor/cuda/cudart_stub.cc:29] Ignore above cudart dlerror if you do not have a GPU set up on your machine.\n",
      "2023-05-05 12:51:41.920620: W tensorflow/compiler/xla/stream_executor/platform/default/dso_loader.cc:64] Could not load dynamic library 'libnvinfer.so.7'; dlerror: libnvinfer.so.7: cannot open shared object file: No such file or directory; LD_LIBRARY_PATH: /opt/ros/noetic/lib\n",
      "2023-05-05 12:51:41.920691: W tensorflow/compiler/xla/stream_executor/platform/default/dso_loader.cc:64] Could not load dynamic library 'libnvinfer_plugin.so.7'; dlerror: libnvinfer_plugin.so.7: cannot open shared object file: No such file or directory; LD_LIBRARY_PATH: /opt/ros/noetic/lib\n",
      "2023-05-05 12:51:41.920698: W tensorflow/compiler/tf2tensorrt/utils/py_utils.cc:38] TF-TRT Warning: Cannot dlopen some TensorRT libraries. If you would like to use Nvidia GPU with TensorRT, please make sure the missing libraries mentioned above are installed properly.\n"
     ]
    }
   ],
   "source": [
    "import numpy as np\n",
    "import pandas as pd\n",
    "import matplotlib.pyplot as plt\n",
    "from keras.models import Model\n",
    "import tensorflow as tf\n",
    "\n",
    "from sklearn.metrics import accuracy_score"
   ]
  },
  {
   "cell_type": "code",
   "execution_count": 2,
   "id": "4c915ba6",
   "metadata": {},
   "outputs": [],
   "source": [
    "from sklearn.model_selection import train_test_split\n",
    "import cv2 as cv\n",
    "import os\n",
    "\n",
    "def load_images_from_folder(folder):\n",
    "    images = []\n",
    "    for filename in os.listdir(folder):\n",
    "        img = cv.imread(os.path.join(folder,filename))\n",
    "        if img is not None:\n",
    "            images.append(img)\n",
    "    return images"
   ]
  },
  {
   "cell_type": "code",
   "execution_count": 3,
   "id": "1831127a",
   "metadata": {},
   "outputs": [],
   "source": [
    "X_data = []\n",
    "y_data = []\n",
    "cont = 0\n",
    "for letra in os.listdir('/media/emanueloliveira/Dados/SCC0910ComputerVision/Dataset/train'):\n",
    "    for image in load_images_from_folder(f'/media/emanueloliveira/Dados/SCC0910ComputerVision/Dataset/train/{letra}'):\n",
    "        X_data.append(image)\n",
    "        y_data.append(cont)\n",
    "    cont += 1\n",
    "    \n",
    "cont = 0\n",
    "for letra in os.listdir('/media/emanueloliveira/Dados/SCC0910ComputerVision/Dataset/test'):\n",
    "    for image in load_images_from_folder(f'/media/emanueloliveira/Dados/SCC0910ComputerVision/Dataset/test/{letra}'):\n",
    "        X_data.append(image)\n",
    "        y_data.append(cont)\n",
    "    cont += 1\n",
    "    \n",
    "X_data = np.array(X_data)\n",
    "y_data = np.array(y_data)"
   ]
  },
  {
   "cell_type": "markdown",
   "id": "e32a15fa",
   "metadata": {},
   "source": [
    "### Testando com VGG"
   ]
  },
  {
   "cell_type": "code",
   "execution_count": 4,
   "id": "13697e4d",
   "metadata": {},
   "outputs": [
    {
     "name": "stderr",
     "output_type": "stream",
     "text": [
      "2023-05-05 12:52:24.367813: W tensorflow/compiler/xla/stream_executor/platform/default/dso_loader.cc:64] Could not load dynamic library 'libcuda.so.1'; dlerror: libcuda.so.1: cannot open shared object file: No such file or directory; LD_LIBRARY_PATH: /home/emanueloliveira/.local/lib/python3.8/site-packages/cv2/../../lib64:/opt/ros/noetic/lib\n",
      "2023-05-05 12:52:24.367834: W tensorflow/compiler/xla/stream_executor/cuda/cuda_driver.cc:265] failed call to cuInit: UNKNOWN ERROR (303)\n",
      "2023-05-05 12:52:24.367853: I tensorflow/compiler/xla/stream_executor/cuda/cuda_diagnostics.cc:156] kernel driver does not appear to be running on this host (emanueloliveira-CI581128TBW10): /proc/driver/nvidia/version does not exist\n",
      "2023-05-05 12:52:24.368261: I tensorflow/core/platform/cpu_feature_guard.cc:193] This TensorFlow binary is optimized with oneAPI Deep Neural Network Library (oneDNN) to use the following CPU instructions in performance-critical operations:  AVX2 FMA\n",
      "To enable them in other operations, rebuild TensorFlow with the appropriate compiler flags.\n"
     ]
    }
   ],
   "source": [
    "import tensorflow.keras.applications as apps\n",
    "from tensorflow import keras\n",
    "from tensorflow.keras import layers\n",
    "\n",
    "model = apps.VGG16(include_top=False, weights='imagenet', input_shape=(64, 64, 3))\n",
    "model = Model(inputs=model.input, outputs=model.get_layer(index=-1).output)\n",
    "model.trainable = False"
   ]
  },
  {
   "cell_type": "code",
   "execution_count": 5,
   "id": "1b2dcc04",
   "metadata": {
    "scrolled": true
   },
   "outputs": [
    {
     "name": "stdout",
     "output_type": "stream",
     "text": [
      "Model output (None, 2, 2, 512)\n"
     ]
    }
   ],
   "source": [
    "print(\"Model output\", model.output.shape)"
   ]
  },
  {
   "cell_type": "code",
   "execution_count": 6,
   "id": "aa021274",
   "metadata": {
    "scrolled": true
   },
   "outputs": [
    {
     "name": "stdout",
     "output_type": "stream",
     "text": [
      "1/1 [==============================] - 0s 224ms/step\n"
     ]
    }
   ],
   "source": [
    "preds = model.predict(X_data[0:5])"
   ]
  },
  {
   "cell_type": "code",
   "execution_count": 7,
   "id": "ff99feee",
   "metadata": {},
   "outputs": [
    {
     "name": "stdout",
     "output_type": "stream",
     "text": [
      "prediction shape (2, 2, 512)\n"
     ]
    }
   ],
   "source": [
    "print(\"prediction shape\", np.array(preds[0]).shape)"
   ]
  },
  {
   "cell_type": "code",
   "execution_count": 8,
   "id": "7ce1193a",
   "metadata": {},
   "outputs": [],
   "source": [
    "Predshape = np.array(preds[0]).reshape(-1).shape[0]"
   ]
  },
  {
   "cell_type": "code",
   "execution_count": 9,
   "id": "73154a08",
   "metadata": {},
   "outputs": [
    {
     "name": "stdout",
     "output_type": "stream",
     "text": [
      "Feature extraction ...\n",
      "1377/1377 [==============================] - 248s 180ms/step\n",
      "\tFeatures data shape:  (44062, 2048)\n"
     ]
    }
   ],
   "source": [
    "# Extração de features\n",
    "print(\"Feature extraction ...\")\n",
    "prediction = np.array(model.predict(X_data))\n",
    "featuresData = np.reshape(prediction, (prediction.shape[0], Predshape))\n",
    "\n",
    "print('\\tFeatures data shape: ', featuresData.shape)"
   ]
  },
  {
   "cell_type": "code",
   "execution_count": 10,
   "id": "82f8c294",
   "metadata": {},
   "outputs": [
    {
     "name": "stdout",
     "output_type": "stream",
     "text": [
      "X_reduced shape:  (44062, 154)\n"
     ]
    }
   ],
   "source": [
    "from sklearn.decomposition import PCA\n",
    "\n",
    "pca = PCA(n_components=0.95)\n",
    "X_reduced = pca.fit_transform(featuresData)\n",
    "\n",
    "print('X_reduced shape: ', X_reduced.shape)"
   ]
  },
  {
   "cell_type": "code",
   "execution_count": 11,
   "id": "d9bd26c6",
   "metadata": {},
   "outputs": [],
   "source": [
    "from sklearn.preprocessing import label_binarize\n",
    "labels = [i for i in range(0, 20)]\n",
    "\n",
    "X_train, X_test, y_train, y_test = train_test_split(X_reduced, y_data, test_size=0.33)\n",
    "\n",
    "y_train = np.array(label_binarize(y_train, classes=labels))\n",
    "y_test = np.array(label_binarize(y_test, classes=labels))\n",
    "X_train, X_val, y_train, y_val = train_test_split(X_train, y_train, test_size=0.25)"
   ]
  },
  {
   "cell_type": "code",
   "execution_count": 12,
   "id": "e67a78be",
   "metadata": {
    "scrolled": false
   },
   "outputs": [
    {
     "name": "stdout",
     "output_type": "stream",
     "text": [
      "training set shape (22140, 154)\n",
      "testing set shape (14541, 154)\n",
      "label train set shape (22140, 20)\n",
      "label test set shape (14541, 20)\n"
     ]
    }
   ],
   "source": [
    "print(f'training set shape {X_train.shape}')\n",
    "print(f'testing set shape {X_test.shape}')\n",
    "print(f'label train set shape {y_train.shape}')\n",
    "print(f'label test set shape {y_test.shape}')"
   ]
  },
  {
   "cell_type": "code",
   "execution_count": 13,
   "id": "0c7cf609",
   "metadata": {},
   "outputs": [],
   "source": [
    "# Creating the Sequential Model\n",
    "model = keras.Sequential([\n",
    "    \n",
    "    # Fully-connected layer\n",
    "    layers.Dense(40, activation='relu', input_shape=[X_train.shape[1]]),\n",
    "    layers.Dense(20, activation='softmax'),\n",
    "])\n",
    "\n",
    "model.compile(\n",
    "    optimizer='adam',\n",
    "    loss = 'categorical_crossentropy',\n",
    "    metrics = ['categorical_accuracy'],\n",
    ")"
   ]
  },
  {
   "cell_type": "code",
   "execution_count": 14,
   "id": "2363a59f",
   "metadata": {},
   "outputs": [
    {
     "name": "stdout",
     "output_type": "stream",
     "text": [
      "Model: \"sequential\"\n",
      "_________________________________________________________________\n",
      " Layer (type)                Output Shape              Param #   \n",
      "=================================================================\n",
      " dense (Dense)               (None, 40)                6200      \n",
      "                                                                 \n",
      " dense_1 (Dense)             (None, 20)                820       \n",
      "                                                                 \n",
      "=================================================================\n",
      "Total params: 7,020\n",
      "Trainable params: 7,020\n",
      "Non-trainable params: 0\n",
      "_________________________________________________________________\n"
     ]
    }
   ],
   "source": [
    "model.summary()"
   ]
  },
  {
   "cell_type": "code",
   "execution_count": 15,
   "id": "4d8cca96",
   "metadata": {
    "scrolled": true
   },
   "outputs": [
    {
     "name": "stdout",
     "output_type": "stream",
     "text": [
      "Epoch 1/100\n",
      "692/692 [==============================] - 2s 2ms/step - loss: 4.0539 - categorical_accuracy: 0.8446 - val_loss: 0.0922 - val_categorical_accuracy: 0.9824\n",
      "Epoch 2/100\n",
      "692/692 [==============================] - 1s 1ms/step - loss: 0.0353 - categorical_accuracy: 0.9926 - val_loss: 0.0417 - val_categorical_accuracy: 0.9912\n",
      "Epoch 3/100\n",
      "692/692 [==============================] - 1s 2ms/step - loss: 0.0058 - categorical_accuracy: 0.9986 - val_loss: 0.0276 - val_categorical_accuracy: 0.9939\n",
      "Epoch 4/100\n",
      "692/692 [==============================] - 1s 1ms/step - loss: 0.0105 - categorical_accuracy: 0.9980 - val_loss: 0.0196 - val_categorical_accuracy: 0.9950\n",
      "Epoch 5/100\n",
      "692/692 [==============================] - 1s 2ms/step - loss: 0.0059 - categorical_accuracy: 0.9991 - val_loss: 0.0191 - val_categorical_accuracy: 0.9954\n",
      "Epoch 6/100\n",
      "692/692 [==============================] - 1s 2ms/step - loss: 0.0273 - categorical_accuracy: 0.9965 - val_loss: 0.0620 - val_categorical_accuracy: 0.9894\n",
      "Epoch 7/100\n",
      "692/692 [==============================] - 1s 2ms/step - loss: 0.0116 - categorical_accuracy: 0.9972 - val_loss: 0.0171 - val_categorical_accuracy: 0.9962\n",
      "Epoch 8/100\n",
      "692/692 [==============================] - 1s 2ms/step - loss: 0.0068 - categorical_accuracy: 0.9990 - val_loss: 0.0136 - val_categorical_accuracy: 0.9974\n",
      "Epoch 9/100\n",
      "692/692 [==============================] - 1s 2ms/step - loss: 0.0110 - categorical_accuracy: 0.9986 - val_loss: 0.0175 - val_categorical_accuracy: 0.9977\n",
      "Epoch 10/100\n",
      "692/692 [==============================] - 1s 2ms/step - loss: 0.0265 - categorical_accuracy: 0.9976 - val_loss: 0.0256 - val_categorical_accuracy: 0.9954\n",
      "Epoch 11/100\n",
      "692/692 [==============================] - 1s 2ms/step - loss: 0.0135 - categorical_accuracy: 0.9979 - val_loss: 0.0211 - val_categorical_accuracy: 0.9965\n",
      "Epoch 12/100\n",
      "692/692 [==============================] - 1s 2ms/step - loss: 0.0058 - categorical_accuracy: 0.9990 - val_loss: 0.0139 - val_categorical_accuracy: 0.9981\n",
      "Epoch 13/100\n",
      "692/692 [==============================] - 1s 1ms/step - loss: 0.0039 - categorical_accuracy: 0.9996 - val_loss: 0.0069 - val_categorical_accuracy: 0.9989\n",
      "Epoch 14/100\n",
      "692/692 [==============================] - 1s 2ms/step - loss: 5.0338e-06 - categorical_accuracy: 1.0000 - val_loss: 0.0068 - val_categorical_accuracy: 0.9989\n",
      "Epoch 15/100\n",
      "692/692 [==============================] - 1s 2ms/step - loss: 2.9319e-06 - categorical_accuracy: 1.0000 - val_loss: 0.0066 - val_categorical_accuracy: 0.9991\n",
      "Epoch 16/100\n",
      "692/692 [==============================] - 1s 2ms/step - loss: 2.2008e-06 - categorical_accuracy: 1.0000 - val_loss: 0.0065 - val_categorical_accuracy: 0.9991\n",
      "Epoch 17/100\n",
      "692/692 [==============================] - 1s 2ms/step - loss: 1.7051e-06 - categorical_accuracy: 1.0000 - val_loss: 0.0064 - val_categorical_accuracy: 0.9991\n",
      "Epoch 18/100\n",
      "692/692 [==============================] - 1s 2ms/step - loss: 1.3356e-06 - categorical_accuracy: 1.0000 - val_loss: 0.0063 - val_categorical_accuracy: 0.9991\n",
      "Epoch 19/100\n",
      "692/692 [==============================] - 1s 2ms/step - loss: 1.0406e-06 - categorical_accuracy: 1.0000 - val_loss: 0.0061 - val_categorical_accuracy: 0.9991\n",
      "Epoch 20/100\n",
      "692/692 [==============================] - 1s 2ms/step - loss: 8.1352e-07 - categorical_accuracy: 1.0000 - val_loss: 0.0060 - val_categorical_accuracy: 0.9992\n",
      "Epoch 21/100\n",
      "692/692 [==============================] - 1s 2ms/step - loss: 6.3501e-07 - categorical_accuracy: 1.0000 - val_loss: 0.0059 - val_categorical_accuracy: 0.9992\n",
      "Epoch 22/100\n",
      "692/692 [==============================] - 1s 2ms/step - loss: 4.9214e-07 - categorical_accuracy: 1.0000 - val_loss: 0.0057 - val_categorical_accuracy: 0.9992\n",
      "Epoch 23/100\n",
      "692/692 [==============================] - 1s 1ms/step - loss: 3.8239e-07 - categorical_accuracy: 1.0000 - val_loss: 0.0056 - val_categorical_accuracy: 0.9993\n",
      "Epoch 24/100\n",
      "692/692 [==============================] - 1s 2ms/step - loss: 2.9214e-07 - categorical_accuracy: 1.0000 - val_loss: 0.0055 - val_categorical_accuracy: 0.9993\n",
      "Epoch 25/100\n",
      "692/692 [==============================] - 1s 2ms/step - loss: 2.2364e-07 - categorical_accuracy: 1.0000 - val_loss: 0.0054 - val_categorical_accuracy: 0.9993\n",
      "Epoch 26/100\n",
      "692/692 [==============================] - 1s 2ms/step - loss: 1.6847e-07 - categorical_accuracy: 1.0000 - val_loss: 0.0053 - val_categorical_accuracy: 0.9993\n",
      "Epoch 27/100\n",
      "692/692 [==============================] - 1s 2ms/step - loss: 1.2891e-07 - categorical_accuracy: 1.0000 - val_loss: 0.0052 - val_categorical_accuracy: 0.9995\n",
      "Epoch 28/100\n",
      "692/692 [==============================] - 1s 2ms/step - loss: 9.6605e-08 - categorical_accuracy: 1.0000 - val_loss: 0.0051 - val_categorical_accuracy: 0.9995\n",
      "Epoch 29/100\n",
      "692/692 [==============================] - 1s 1ms/step - loss: 7.2462e-08 - categorical_accuracy: 1.0000 - val_loss: 0.0051 - val_categorical_accuracy: 0.9995\n",
      "Epoch 30/100\n",
      "692/692 [==============================] - 1s 2ms/step - loss: 5.4091e-08 - categorical_accuracy: 1.0000 - val_loss: 0.0050 - val_categorical_accuracy: 0.9995\n",
      "Epoch 31/100\n",
      "692/692 [==============================] - 1s 2ms/step - loss: 4.0501e-08 - categorical_accuracy: 1.0000 - val_loss: 0.0050 - val_categorical_accuracy: 0.9995\n"
     ]
    }
   ],
   "source": [
    "from tensorflow.keras.callbacks import EarlyStopping\n",
    "\n",
    "early_stopping = EarlyStopping(\n",
    "    min_delta=0.001, # minimium amount of change to count as an improvement\n",
    "    patience=10, # how many epochs to wait before stopping\n",
    "    restore_best_weights=True,\n",
    ")\n",
    "\n",
    "history = model.fit(\n",
    "    X_train, y_train,\n",
    "    validation_data=(X_val, y_val),\n",
    "    batch_size=32,\n",
    "    epochs=100,\n",
    "    shuffle=True,\n",
    "    callbacks=[early_stopping],\n",
    ")"
   ]
  },
  {
   "cell_type": "code",
   "execution_count": 16,
   "id": "b2566d72",
   "metadata": {},
   "outputs": [
    {
     "name": "stdout",
     "output_type": "stream",
     "text": [
      "Best Validation Loss: 0.0050\n",
      "Best Validation Accuracy: 0.9995\n"
     ]
    },
    {
     "data": {
      "image/png": "[encoded data removed]",
      "text/plain": [
       "<Figure size 640x480 with 1 Axes>"
      ]
     },
     "metadata": {},
     "output_type": "display_data"
    },
    {
     "data": {
      "image/png": "[encoded data removed]",
      "text/plain": [
       "<Figure size 640x480 with 1 Axes>"
      ]
     },
     "metadata": {},
     "output_type": "display_data"
    }
   ],
   "source": [
    "# Estatística do modelo\n",
    "history_df = pd.DataFrame(history.history)\n",
    "history_df.loc[1:, ['loss', 'val_loss']].plot()\n",
    "history_df.loc[1:, ['categorical_accuracy', 'val_categorical_accuracy']].plot()\n",
    "\n",
    "print((\"Best Validation Loss: {:0.4f}\" +\\\n",
    "      \"\\nBest Validation Accuracy: {:0.4f}\")\\\n",
    "      .format(history_df['val_loss'].min(), \n",
    "              history_df['val_categorical_accuracy'].max()))"
   ]
  },
  {
   "cell_type": "code",
   "execution_count": 17,
   "id": "3c77e7f3",
   "metadata": {},
   "outputs": [
    {
     "name": "stdout",
     "output_type": "stream",
     "text": [
      "455/455 [==============================] - 0s 651us/step\n"
     ]
    }
   ],
   "source": [
    "# Decoding predições e labels de test por hard voting \n",
    "argy_test = [np.argmax(i) for i in y_test]\n",
    "argy_pred = [np.argmax(i) for i in model.predict(X_test)]"
   ]
  },
  {
   "cell_type": "code",
   "execution_count": 18,
   "id": "52e0c6a8",
   "metadata": {},
   "outputs": [
    {
     "name": "stdout",
     "output_type": "stream",
     "text": [
      "VGG score on test set: 0.9992435183274878\n"
     ]
    }
   ],
   "source": [
    "# Resultado nos dados de test\n",
    "\n",
    "print(f'VGG score on test set: {accuracy_score(argy_test, argy_pred)}')"
   ]
  },
  {
   "cell_type": "markdown",
   "id": "2e5fb5fa",
   "metadata": {},
   "source": [
    "### Testando com ResNet"
   ]
  },
  {
   "cell_type": "code",
   "execution_count": 19,
   "id": "c5e7e702",
   "metadata": {},
   "outputs": [],
   "source": [
    "import tensorflow.keras.applications as apps\n",
    "from tensorflow import keras\n",
    "from tensorflow.keras import layers\n",
    "\n",
    "model = apps.ResNet50(include_top=False, weights='imagenet', input_shape=(64, 64, 3))\n",
    "model = Model(inputs=model.input, outputs=model.get_layer(index=-1).output)\n",
    "model.trainable = False"
   ]
  },
  {
   "cell_type": "code",
   "execution_count": 20,
   "id": "e95dca29",
   "metadata": {},
   "outputs": [
    {
     "name": "stdout",
     "output_type": "stream",
     "text": [
      "Model output (None, 2, 2, 2048)\n"
     ]
    }
   ],
   "source": [
    "print(\"Model output\", model.output.shape)"
   ]
  },
  {
   "cell_type": "code",
   "execution_count": 21,
   "id": "cce93602",
   "metadata": {},
   "outputs": [
    {
     "name": "stdout",
     "output_type": "stream",
     "text": [
      "1/1 [==============================] - 1s 574ms/step\n"
     ]
    }
   ],
   "source": [
    "preds = model.predict(X_data[0:5])"
   ]
  },
  {
   "cell_type": "code",
   "execution_count": 22,
   "id": "f065cc56",
   "metadata": {},
   "outputs": [
    {
     "name": "stdout",
     "output_type": "stream",
     "text": [
      "prediction shape (2, 2, 2048)\n"
     ]
    }
   ],
   "source": [
    "print(\"prediction shape\", np.array(preds[0]).shape)"
   ]
  },
  {
   "cell_type": "code",
   "execution_count": 23,
   "id": "fbe6a3d7",
   "metadata": {},
   "outputs": [
    {
     "name": "stdout",
     "output_type": "stream",
     "text": [
      "predshape: 8192\n"
     ]
    }
   ],
   "source": [
    "Predshape = np.array(preds[0]).reshape(-1).shape[0]\n",
    "print(f\"predshape: {Predshape}\")"
   ]
  },
  {
   "cell_type": "code",
   "execution_count": 24,
   "id": "22233505",
   "metadata": {},
   "outputs": [
    {
     "name": "stdout",
     "output_type": "stream",
     "text": [
      "Feature extraction ...\n",
      "1377/1377 [==============================] - 120s 87ms/step\n",
      "\tFeatures data shape:  (44062, 8192)\n"
     ]
    }
   ],
   "source": [
    "# Extração de features\n",
    "print(\"Feature extraction ...\")\n",
    "prediction = np.array(model.predict(X_data))\n",
    "featuresData = np.reshape(prediction, (prediction.shape[0], Predshape))\n",
    "\n",
    "print('\\tFeatures data shape: ', featuresData.shape)"
   ]
  },
  {
   "cell_type": "code",
   "execution_count": 25,
   "id": "840a7517",
   "metadata": {},
   "outputs": [
    {
     "name": "stdout",
     "output_type": "stream",
     "text": [
      "X_reduced shape:  (44062, 380)\n"
     ]
    }
   ],
   "source": [
    "from sklearn.decomposition import PCA\n",
    "\n",
    "pca = PCA(n_components=0.95)\n",
    "X_reduced = pca.fit_transform(featuresData)\n",
    "\n",
    "print('X_reduced shape: ', X_reduced.shape)"
   ]
  },
  {
   "cell_type": "code",
   "execution_count": 26,
   "id": "a012e3f6",
   "metadata": {},
   "outputs": [],
   "source": [
    "from sklearn.preprocessing import label_binarize\n",
    "labels = [i for i in range(0, 20)]\n",
    "\n",
    "X_train, X_test, y_train, y_test = train_test_split(X_reduced, y_data, test_size=0.33)\n",
    "\n",
    "y_train = np.array(label_binarize(y_train, classes=labels))\n",
    "y_test = np.array(label_binarize(y_test, classes=labels))\n",
    "X_train, X_val, y_train, y_val = train_test_split(X_train, y_train, test_size=0.25)"
   ]
  },
  {
   "cell_type": "code",
   "execution_count": 27,
   "id": "ee136ed8",
   "metadata": {},
   "outputs": [
    {
     "name": "stdout",
     "output_type": "stream",
     "text": [
      "training set shape (22140, 380)\n",
      "testing set shape (14541, 380)\n",
      "label train set shape (22140, 20)\n",
      "label test set shape (14541, 20)\n"
     ]
    }
   ],
   "source": [
    "print(f'training set shape {X_train.shape}')\n",
    "print(f'testing set shape {X_test.shape}')\n",
    "print(f'label train set shape {y_train.shape}')\n",
    "print(f'label test set shape {y_test.shape}')"
   ]
  },
  {
   "cell_type": "code",
   "execution_count": 28,
   "id": "cf62a7d6",
   "metadata": {},
   "outputs": [],
   "source": [
    "# Creating the Sequential Model\n",
    "model = keras.Sequential([\n",
    "    \n",
    "    # Fully-connected layer\n",
    "    layers.Dense(40, activation='relu', input_shape=[X_train.shape[1]]),\n",
    "    layers.Dense(20, activation='softmax'),\n",
    "])\n",
    "\n",
    "model.compile(\n",
    "    optimizer='adam',\n",
    "    loss = 'categorical_crossentropy',\n",
    "    metrics = ['categorical_accuracy'],\n",
    ")"
   ]
  },
  {
   "cell_type": "code",
   "execution_count": 29,
   "id": "f2d6d827",
   "metadata": {},
   "outputs": [
    {
     "name": "stdout",
     "output_type": "stream",
     "text": [
      "Model: \"sequential_1\"\n",
      "_________________________________________________________________\n",
      " Layer (type)                Output Shape              Param #   \n",
      "=================================================================\n",
      " dense_2 (Dense)             (None, 40)                15240     \n",
      "                                                                 \n",
      " dense_3 (Dense)             (None, 20)                820       \n",
      "                                                                 \n",
      "=================================================================\n",
      "Total params: 16,060\n",
      "Trainable params: 16,060\n",
      "Non-trainable params: 0\n",
      "_________________________________________________________________\n"
     ]
    }
   ],
   "source": [
    "model.summary()"
   ]
  },
  {
   "cell_type": "code",
   "execution_count": 30,
   "id": "c9791840",
   "metadata": {},
   "outputs": [
    {
     "name": "stdout",
     "output_type": "stream",
     "text": [
      "Epoch 1/100\n",
      "692/692 [==============================] - 1s 2ms/step - loss: 0.6447 - categorical_accuracy: 0.8884 - val_loss: 0.0304 - val_categorical_accuracy: 0.9944\n",
      "Epoch 2/100\n",
      "692/692 [==============================] - 1s 2ms/step - loss: 0.0134 - categorical_accuracy: 0.9980 - val_loss: 0.0146 - val_categorical_accuracy: 0.9965\n",
      "Epoch 3/100\n",
      "692/692 [==============================] - 1s 1ms/step - loss: 0.0047 - categorical_accuracy: 0.9995 - val_loss: 0.0098 - val_categorical_accuracy: 0.9982\n",
      "Epoch 4/100\n",
      "692/692 [==============================] - 1s 2ms/step - loss: 0.0018 - categorical_accuracy: 1.0000 - val_loss: 0.0077 - val_categorical_accuracy: 0.9991\n",
      "Epoch 5/100\n",
      "692/692 [==============================] - 1s 2ms/step - loss: 0.0010 - categorical_accuracy: 1.0000 - val_loss: 0.0071 - val_categorical_accuracy: 0.9985\n",
      "Epoch 6/100\n",
      "692/692 [==============================] - 1s 2ms/step - loss: 6.3060e-04 - categorical_accuracy: 1.0000 - val_loss: 0.0063 - val_categorical_accuracy: 0.9988\n",
      "Epoch 7/100\n",
      "692/692 [==============================] - 1s 1ms/step - loss: 4.1557e-04 - categorical_accuracy: 1.0000 - val_loss: 0.0061 - val_categorical_accuracy: 0.9989\n",
      "Epoch 8/100\n",
      "692/692 [==============================] - 1s 2ms/step - loss: 2.7756e-04 - categorical_accuracy: 1.0000 - val_loss: 0.0059 - val_categorical_accuracy: 0.9988\n",
      "Epoch 9/100\n",
      "692/692 [==============================] - 1s 2ms/step - loss: 1.9137e-04 - categorical_accuracy: 1.0000 - val_loss: 0.0057 - val_categorical_accuracy: 0.9991\n",
      "Epoch 10/100\n",
      "692/692 [==============================] - 1s 2ms/step - loss: 1.2981e-04 - categorical_accuracy: 1.0000 - val_loss: 0.0056 - val_categorical_accuracy: 0.9988\n",
      "Epoch 11/100\n",
      "692/692 [==============================] - 1s 2ms/step - loss: 8.8677e-05 - categorical_accuracy: 1.0000 - val_loss: 0.0057 - val_categorical_accuracy: 0.9988\n",
      "Epoch 12/100\n",
      "692/692 [==============================] - 1s 2ms/step - loss: 6.0700e-05 - categorical_accuracy: 1.0000 - val_loss: 0.0057 - val_categorical_accuracy: 0.9989\n",
      "Epoch 13/100\n",
      "692/692 [==============================] - 1s 2ms/step - loss: 4.2873e-05 - categorical_accuracy: 1.0000 - val_loss: 0.0062 - val_categorical_accuracy: 0.9989\n",
      "Epoch 14/100\n",
      "692/692 [==============================] - 1s 2ms/step - loss: 2.9590e-05 - categorical_accuracy: 1.0000 - val_loss: 0.0054 - val_categorical_accuracy: 0.9991\n",
      "Epoch 15/100\n",
      "692/692 [==============================] - 1s 2ms/step - loss: 2.0035e-05 - categorical_accuracy: 1.0000 - val_loss: 0.0050 - val_categorical_accuracy: 0.9991\n",
      "Epoch 16/100\n",
      "692/692 [==============================] - 1s 2ms/step - loss: 1.4334e-05 - categorical_accuracy: 1.0000 - val_loss: 0.0050 - val_categorical_accuracy: 0.9991\n",
      "Epoch 17/100\n",
      "692/692 [==============================] - 1s 1ms/step - loss: 9.6000e-06 - categorical_accuracy: 1.0000 - val_loss: 0.0051 - val_categorical_accuracy: 0.9989\n",
      "Epoch 18/100\n",
      "692/692 [==============================] - 1s 2ms/step - loss: 6.7576e-06 - categorical_accuracy: 1.0000 - val_loss: 0.0051 - val_categorical_accuracy: 0.9992\n",
      "Epoch 19/100\n",
      "692/692 [==============================] - 1s 2ms/step - loss: 4.5732e-06 - categorical_accuracy: 1.0000 - val_loss: 0.0049 - val_categorical_accuracy: 0.9992\n",
      "Epoch 20/100\n",
      "692/692 [==============================] - 1s 2ms/step - loss: 3.1894e-06 - categorical_accuracy: 1.0000 - val_loss: 0.0048 - val_categorical_accuracy: 0.9995\n",
      "Epoch 21/100\n",
      "692/692 [==============================] - 1s 1ms/step - loss: 2.2206e-06 - categorical_accuracy: 1.0000 - val_loss: 0.0051 - val_categorical_accuracy: 0.9992\n",
      "Epoch 22/100\n",
      "692/692 [==============================] - 1s 2ms/step - loss: 1.5583e-06 - categorical_accuracy: 1.0000 - val_loss: 0.0049 - val_categorical_accuracy: 0.9992\n",
      "Epoch 23/100\n",
      "692/692 [==============================] - 1s 1ms/step - loss: 1.0595e-06 - categorical_accuracy: 1.0000 - val_loss: 0.0050 - val_categorical_accuracy: 0.9993\n",
      "Epoch 24/100\n",
      "692/692 [==============================] - 1s 2ms/step - loss: 7.4424e-07 - categorical_accuracy: 1.0000 - val_loss: 0.0049 - val_categorical_accuracy: 0.9995\n",
      "Epoch 25/100\n",
      "692/692 [==============================] - 1s 2ms/step - loss: 5.1699e-07 - categorical_accuracy: 1.0000 - val_loss: 0.0052 - val_categorical_accuracy: 0.9993\n"
     ]
    }
   ],
   "source": [
    "from tensorflow.keras.callbacks import EarlyStopping\n",
    "\n",
    "early_stopping = EarlyStopping(\n",
    "    min_delta=0.001, # minimium amount of change to count as an improvement\n",
    "    patience=10, # how many epochs to wait before stopping\n",
    "    restore_best_weights=True,\n",
    ")\n",
    "\n",
    "history = model.fit(\n",
    "    X_train, y_train,\n",
    "    validation_data=(X_val, y_val),\n",
    "    batch_size=32,\n",
    "    epochs=100,\n",
    "    shuffle=True,\n",
    "    callbacks=[early_stopping],\n",
    ")"
   ]
  },
  {
   "cell_type": "code",
   "execution_count": 31,
   "id": "6efe9006",
   "metadata": {},
   "outputs": [
    {
     "name": "stdout",
     "output_type": "stream",
     "text": [
      "Best Validation Loss: 0.0048\n",
      "Best Validation Accuracy: 0.9995\n"
     ]
    },
    {
     "data": {
      "image/png": "[encoded data removed]",
      "text/plain": [
       "<Figure size 640x480 with 1 Axes>"
      ]
     },
     "metadata": {},
     "output_type": "display_data"
    },
    {
     "data": {
      "image/png": "[encoded data removed]",
      "text/plain": [
       "<Figure size 640x480 with 1 Axes>"
      ]
     },
     "metadata": {},
     "output_type": "display_data"
    }
   ],
   "source": [
    "# Estatística do modelo\n",
    "history_df = pd.DataFrame(history.history)\n",
    "history_df.loc[1:, ['loss', 'val_loss']].plot()\n",
    "history_df.loc[1:, ['categorical_accuracy', 'val_categorical_accuracy']].plot()\n",
    "\n",
    "print((\"Best Validation Loss: {:0.4f}\" +\\\n",
    "      \"\\nBest Validation Accuracy: {:0.4f}\")\\\n",
    "      .format(history_df['val_loss'].min(), \n",
    "              history_df['val_categorical_accuracy'].max()))"
   ]
  },
  {
   "cell_type": "code",
   "execution_count": 32,
   "id": "4e069885",
   "metadata": {},
   "outputs": [
    {
     "name": "stdout",
     "output_type": "stream",
     "text": [
      "455/455 [==============================] - 0s 656us/step\n"
     ]
    }
   ],
   "source": [
    "# Decoding predições e labels de test por hard voting \n",
    "argy_test = [np.argmax(i) for i in y_test]\n",
    "argy_pred = [np.argmax(i) for i in model.predict(X_test)]"
   ]
  },
  {
   "cell_type": "code",
   "execution_count": 33,
   "id": "43876945",
   "metadata": {},
   "outputs": [
    {
     "name": "stdout",
     "output_type": "stream",
     "text": [
      "ResNet score on test set: 0.9997249157554501\n"
     ]
    }
   ],
   "source": [
    "# Resultado nos dados de test\n",
    "\n",
    "print(f'ResNet score on test set: {accuracy_score(argy_test, argy_pred)}')"
   ]
  },
  {
   "cell_type": "markdown",
   "id": "667a2b51",
   "metadata": {},
   "source": [
    "### Testando com EfficientNetB3"
   ]
  },
  {
   "cell_type": "code",
   "execution_count": 34,
   "id": "d119e2a3",
   "metadata": {
    "scrolled": true
   },
   "outputs": [],
   "source": [
    "import tensorflow.keras.applications as apps\n",
    "from tensorflow import keras\n",
    "from tensorflow.keras import layers\n",
    "\n",
    "model = apps.EfficientNetB3(include_top=False, weights='imagenet', input_shape=(64, 64, 3))\n",
    "model = Model(inputs=model.input, outputs=model.get_layer(index=-1).output)\n",
    "model.trainable = False"
   ]
  },
  {
   "cell_type": "code",
   "execution_count": 35,
   "id": "229188a0",
   "metadata": {},
   "outputs": [
    {
     "name": "stdout",
     "output_type": "stream",
     "text": [
      "Model output (None, 2, 2, 1536)\n"
     ]
    }
   ],
   "source": [
    "print(\"Model output\", model.output.shape)"
   ]
  },
  {
   "cell_type": "code",
   "execution_count": 36,
   "id": "c2c24dbf",
   "metadata": {},
   "outputs": [
    {
     "name": "stdout",
     "output_type": "stream",
     "text": [
      "1/1 [==============================] - 1s 1s/step\n"
     ]
    }
   ],
   "source": [
    "preds = model.predict(X_data[0:5])"
   ]
  },
  {
   "cell_type": "code",
   "execution_count": 37,
   "id": "6053274d",
   "metadata": {},
   "outputs": [
    {
     "name": "stdout",
     "output_type": "stream",
     "text": [
      "prediction shape (2, 2, 1536)\n"
     ]
    }
   ],
   "source": [
    "print(\"prediction shape\", np.array(preds[0]).shape)"
   ]
  },
  {
   "cell_type": "code",
   "execution_count": 38,
   "id": "e1106448",
   "metadata": {},
   "outputs": [],
   "source": [
    "Predshape = np.array(preds[0]).reshape(-1).shape[0]"
   ]
  },
  {
   "cell_type": "code",
   "execution_count": 39,
   "id": "dfa6d455",
   "metadata": {},
   "outputs": [
    {
     "name": "stdout",
     "output_type": "stream",
     "text": [
      "Feature extraction ...\n",
      "1377/1377 [==============================] - 104s 76ms/step\n"
     ]
    }
   ],
   "source": [
    "# Extração de features\n",
    "print(\"Feature extraction ...\")\n",
    "prediction = np.array(model.predict(X_data))\n",
    "featuresData = np.reshape(prediction, (prediction.shape[0], Predshape))"
   ]
  },
  {
   "cell_type": "code",
   "execution_count": 40,
   "id": "dc01ddce",
   "metadata": {},
   "outputs": [
    {
     "name": "stdout",
     "output_type": "stream",
     "text": [
      "\tFeatures data shape:  (44062, 6144)\n"
     ]
    }
   ],
   "source": [
    "print('\\tFeatures data shape: ', featuresData.shape)"
   ]
  },
  {
   "cell_type": "code",
   "execution_count": 41,
   "id": "917c7bb6",
   "metadata": {},
   "outputs": [],
   "source": [
    "from sklearn.decomposition import PCA\n",
    "\n",
    "pca = PCA(n_components=0.95)\n",
    "X_reduced = pca.fit_transform(featuresData)"
   ]
  },
  {
   "cell_type": "code",
   "execution_count": 42,
   "id": "a7fe81e1",
   "metadata": {},
   "outputs": [
    {
     "name": "stdout",
     "output_type": "stream",
     "text": [
      "X_reduced shape:  (44062, 208)\n"
     ]
    }
   ],
   "source": [
    "print('X_reduced shape: ', X_reduced.shape)"
   ]
  },
  {
   "cell_type": "code",
   "execution_count": 43,
   "id": "abb429dd",
   "metadata": {},
   "outputs": [],
   "source": [
    "from sklearn.preprocessing import label_binarize\n",
    "labels = [i for i in range(0, 20)]\n",
    "\n",
    "X_train, X_test, y_train, y_test = train_test_split(X_reduced, y_data, test_size=0.33)\n",
    "\n",
    "y_train = np.array(label_binarize(y_train, classes=labels))\n",
    "y_test = np.array(label_binarize(y_test, classes=labels))\n",
    "X_train, X_val, y_train, y_val = train_test_split(X_train, y_train, test_size=0.25)"
   ]
  },
  {
   "cell_type": "code",
   "execution_count": 44,
   "id": "969d5b69",
   "metadata": {},
   "outputs": [
    {
     "name": "stdout",
     "output_type": "stream",
     "text": [
      "training set shape (22140, 208)\n",
      "testing set shape (14541, 208)\n",
      "label train set shape (22140, 20)\n",
      "label test set shape (14541, 20)\n"
     ]
    }
   ],
   "source": [
    "print(f'training set shape {X_train.shape}')\n",
    "print(f'testing set shape {X_test.shape}')\n",
    "print(f'label train set shape {y_train.shape}')\n",
    "print(f'label test set shape {y_test.shape}')"
   ]
  },
  {
   "cell_type": "code",
   "execution_count": 45,
   "id": "e9ccb7a1",
   "metadata": {},
   "outputs": [],
   "source": [
    "# Creating the Sequential Model\n",
    "model = keras.Sequential([\n",
    "    \n",
    "    # Fully-connected layer\n",
    "    layers.Dense(40, activation='relu', input_shape=[X_train.shape[1]]),\n",
    "    layers.Dense(20, activation='softmax'),\n",
    "])\n",
    "\n",
    "model.compile(\n",
    "    optimizer='adam',\n",
    "    loss = 'categorical_crossentropy',\n",
    "    metrics = ['categorical_accuracy'],\n",
    ")"
   ]
  },
  {
   "cell_type": "code",
   "execution_count": 46,
   "id": "7cbaada6",
   "metadata": {},
   "outputs": [
    {
     "name": "stdout",
     "output_type": "stream",
     "text": [
      "Model: \"sequential_2\"\n",
      "_________________________________________________________________\n",
      " Layer (type)                Output Shape              Param #   \n",
      "=================================================================\n",
      " dense_4 (Dense)             (None, 40)                8360      \n",
      "                                                                 \n",
      " dense_5 (Dense)             (None, 20)                820       \n",
      "                                                                 \n",
      "=================================================================\n",
      "Total params: 9,180\n",
      "Trainable params: 9,180\n",
      "Non-trainable params: 0\n",
      "_________________________________________________________________\n"
     ]
    }
   ],
   "source": [
    "model.summary()"
   ]
  },
  {
   "cell_type": "code",
   "execution_count": 47,
   "id": "bedb9391",
   "metadata": {},
   "outputs": [
    {
     "name": "stdout",
     "output_type": "stream",
     "text": [
      "Epoch 1/100\n",
      "692/692 [==============================] - 1s 2ms/step - loss: 0.5202 - categorical_accuracy: 0.8804 - val_loss: 0.0662 - val_categorical_accuracy: 0.9917\n",
      "Epoch 2/100\n",
      "692/692 [==============================] - 1s 2ms/step - loss: 0.0367 - categorical_accuracy: 0.9956 - val_loss: 0.0217 - val_categorical_accuracy: 0.9974\n",
      "Epoch 3/100\n",
      "692/692 [==============================] - 1s 1ms/step - loss: 0.0140 - categorical_accuracy: 0.9989 - val_loss: 0.0103 - val_categorical_accuracy: 0.9995\n",
      "Epoch 4/100\n",
      "692/692 [==============================] - 1s 1ms/step - loss: 0.0067 - categorical_accuracy: 0.9997 - val_loss: 0.0065 - val_categorical_accuracy: 0.9993\n",
      "Epoch 5/100\n",
      "692/692 [==============================] - 1s 2ms/step - loss: 0.0038 - categorical_accuracy: 0.9998 - val_loss: 0.0042 - val_categorical_accuracy: 0.9997\n",
      "Epoch 6/100\n",
      "692/692 [==============================] - 2s 2ms/step - loss: 0.0022 - categorical_accuracy: 1.0000 - val_loss: 0.0031 - val_categorical_accuracy: 0.9997\n",
      "Epoch 7/100\n",
      "692/692 [==============================] - 1s 2ms/step - loss: 0.0014 - categorical_accuracy: 1.0000 - val_loss: 0.0028 - val_categorical_accuracy: 0.9996\n",
      "Epoch 8/100\n",
      "692/692 [==============================] - 1s 2ms/step - loss: 8.9485e-04 - categorical_accuracy: 1.0000 - val_loss: 0.0021 - val_categorical_accuracy: 0.9995\n",
      "Epoch 9/100\n",
      "692/692 [==============================] - 1s 2ms/step - loss: 0.0017 - categorical_accuracy: 0.9998 - val_loss: 0.0121 - val_categorical_accuracy: 0.9961\n",
      "Epoch 10/100\n",
      "692/692 [==============================] - 1s 2ms/step - loss: 9.8322e-04 - categorical_accuracy: 0.9999 - val_loss: 0.0020 - val_categorical_accuracy: 0.9993\n",
      "Epoch 11/100\n",
      "692/692 [==============================] - 1s 2ms/step - loss: 3.1221e-04 - categorical_accuracy: 1.0000 - val_loss: 0.0014 - val_categorical_accuracy: 0.9995\n",
      "Epoch 12/100\n",
      "692/692 [==============================] - 1s 2ms/step - loss: 2.0377e-04 - categorical_accuracy: 1.0000 - val_loss: 0.0012 - val_categorical_accuracy: 0.9999\n",
      "Epoch 13/100\n",
      "692/692 [==============================] - 1s 2ms/step - loss: 1.4648e-04 - categorical_accuracy: 1.0000 - val_loss: 9.6551e-04 - val_categorical_accuracy: 1.0000\n",
      "Epoch 14/100\n",
      "692/692 [==============================] - 1s 1ms/step - loss: 1.0677e-04 - categorical_accuracy: 1.0000 - val_loss: 8.1264e-04 - val_categorical_accuracy: 0.9999\n",
      "Epoch 15/100\n",
      "692/692 [==============================] - 1s 2ms/step - loss: 7.8098e-05 - categorical_accuracy: 1.0000 - val_loss: 7.5983e-04 - val_categorical_accuracy: 0.9999\n",
      "Epoch 16/100\n",
      "692/692 [==============================] - 1s 1ms/step - loss: 5.5955e-05 - categorical_accuracy: 1.0000 - val_loss: 7.3582e-04 - val_categorical_accuracy: 0.9997\n",
      "Epoch 17/100\n",
      "692/692 [==============================] - 1s 2ms/step - loss: 4.1227e-05 - categorical_accuracy: 1.0000 - val_loss: 6.3995e-04 - val_categorical_accuracy: 1.0000\n",
      "Epoch 18/100\n",
      "692/692 [==============================] - 1s 1ms/step - loss: 0.0020 - categorical_accuracy: 0.9997 - val_loss: 0.0027 - val_categorical_accuracy: 0.9995\n",
      "Epoch 19/100\n",
      "692/692 [==============================] - 1s 2ms/step - loss: 0.0016 - categorical_accuracy: 0.9995 - val_loss: 0.0019 - val_categorical_accuracy: 0.9992\n",
      "Epoch 20/100\n",
      "692/692 [==============================] - 1s 2ms/step - loss: 3.1386e-04 - categorical_accuracy: 0.9999 - val_loss: 9.3377e-04 - val_categorical_accuracy: 0.9996\n",
      "Epoch 21/100\n",
      "692/692 [==============================] - 1s 1ms/step - loss: 5.2301e-05 - categorical_accuracy: 1.0000 - val_loss: 6.7257e-04 - val_categorical_accuracy: 0.9996\n",
      "Epoch 22/100\n",
      "692/692 [==============================] - 1s 2ms/step - loss: 2.4472e-05 - categorical_accuracy: 1.0000 - val_loss: 6.3213e-04 - val_categorical_accuracy: 0.9996\n",
      "Epoch 23/100\n",
      "692/692 [==============================] - 1s 2ms/step - loss: 1.8783e-05 - categorical_accuracy: 1.0000 - val_loss: 5.7918e-04 - val_categorical_accuracy: 0.9997\n"
     ]
    }
   ],
   "source": [
    "from tensorflow.keras.callbacks import EarlyStopping\n",
    "\n",
    "early_stopping = EarlyStopping(\n",
    "    min_delta=0.001, # minimium amount of change to count as an improvement\n",
    "    patience=10, # how many epochs to wait before stopping\n",
    "    restore_best_weights=True,\n",
    ")\n",
    "\n",
    "history = model.fit(\n",
    "    X_train, y_train,\n",
    "    validation_data=(X_val, y_val),\n",
    "    batch_size=32,\n",
    "    epochs=100,\n",
    "    shuffle=True,\n",
    "    callbacks=[early_stopping],\n",
    ")"
   ]
  },
  {
   "cell_type": "code",
   "execution_count": 48,
   "id": "fb630d9d",
   "metadata": {},
   "outputs": [
    {
     "name": "stdout",
     "output_type": "stream",
     "text": [
      "Best Validation Loss: 0.0006\n",
      "Best Validation Accuracy: 1.0000\n"
     ]
    },
    {
     "data": {
      "image/png": "[encoded data removed]",
      "text/plain": [
       "<Figure size 640x480 with 1 Axes>"
      ]
     },
     "metadata": {},
     "output_type": "display_data"
    },
    {
     "data": {
      "image/png": "[encoded data removed]",
      "text/plain": [
       "<Figure size 640x480 with 1 Axes>"
      ]
     },
     "metadata": {},
     "output_type": "display_data"
    }
   ],
   "source": [
    "# Estatística do modelo\n",
    "history_df = pd.DataFrame(history.history)\n",
    "history_df.loc[1:, ['loss', 'val_loss']].plot()\n",
    "history_df.loc[1:, ['categorical_accuracy', 'val_categorical_accuracy']].plot()\n",
    "\n",
    "print((\"Best Validation Loss: {:0.4f}\" +\\\n",
    "      \"\\nBest Validation Accuracy: {:0.4f}\")\\\n",
    "      .format(history_df['val_loss'].min(), \n",
    "              history_df['val_categorical_accuracy'].max()))"
   ]
  },
  {
   "cell_type": "code",
   "execution_count": 49,
   "id": "5b05f050",
   "metadata": {},
   "outputs": [
    {
     "name": "stdout",
     "output_type": "stream",
     "text": [
      "455/455 [==============================] - 0s 849us/step\n"
     ]
    }
   ],
   "source": [
    "# Decoding predições e labels de test por hard voting \n",
    "argy_test = [np.argmax(i) for i in y_test]\n",
    "argy_pred = [np.argmax(i) for i in model.predict(X_test)]"
   ]
  },
  {
   "cell_type": "code",
   "execution_count": 50,
   "id": "26982d0f",
   "metadata": {},
   "outputs": [
    {
     "name": "stdout",
     "output_type": "stream",
     "text": [
      "EfficentNetB3 score on test set: 0.9995873736331752\n"
     ]
    }
   ],
   "source": [
    "# Resultado nos dados de test\n",
    "\n",
    "print(f'EfficentNetB3 score on test set: {accuracy_score(argy_test, argy_pred)}')"
   ]
  },
  {
   "cell_type": "markdown",
   "id": "96566dbe",
   "metadata": {},
   "source": [
    "### Testando com MobileNet"
   ]
  },
  {
   "cell_type": "code",
   "execution_count": 51,
   "id": "64a6895d",
   "metadata": {},
   "outputs": [
    {
     "name": "stdout",
     "output_type": "stream",
     "text": [
      "WARNING:tensorflow:`input_shape` is undefined or non-square, or `rows` is not in [96, 128, 160, 192, 224]. Weights for input shape (224, 224) will be loaded as the default.\n"
     ]
    }
   ],
   "source": [
    "import tensorflow.keras.applications as apps\n",
    "from tensorflow import keras\n",
    "from tensorflow.keras import layers\n",
    "\n",
    "model = apps.MobileNetV2(input_shape=(64, 64, 3), include_top=False, weights='imagenet')\n",
    "model = Model(inputs=model.input, outputs=model.get_layer(index=-1).output)\n",
    "model.trainable = False"
   ]
  },
  {
   "cell_type": "code",
   "execution_count": 52,
   "id": "8b89c33a",
   "metadata": {},
   "outputs": [
    {
     "name": "stdout",
     "output_type": "stream",
     "text": [
      "Model output (None, 2, 2, 1280)\n"
     ]
    }
   ],
   "source": [
    "print(\"Model output\", model.output.shape)"
   ]
  },
  {
   "cell_type": "code",
   "execution_count": 53,
   "id": "ee9f9cb8",
   "metadata": {},
   "outputs": [
    {
     "name": "stdout",
     "output_type": "stream",
     "text": [
      "1/1 [==============================] - 0s 488ms/step\n"
     ]
    }
   ],
   "source": [
    "preds = model.predict(X_data[0:5])"
   ]
  },
  {
   "cell_type": "code",
   "execution_count": 54,
   "id": "36dab920",
   "metadata": {},
   "outputs": [
    {
     "name": "stdout",
     "output_type": "stream",
     "text": [
      "prediction shape (2, 2, 1280)\n"
     ]
    }
   ],
   "source": [
    "print(\"prediction shape\", np.array(preds[0]).shape)"
   ]
  },
  {
   "cell_type": "code",
   "execution_count": 55,
   "id": "af783df9",
   "metadata": {},
   "outputs": [
    {
     "name": "stdout",
     "output_type": "stream",
     "text": [
      "predshape: 5120\n"
     ]
    }
   ],
   "source": [
    "Predshape = np.array(preds[0]).reshape(-1).shape[0]\n",
    "print(f\"predshape: {Predshape}\")"
   ]
  },
  {
   "cell_type": "code",
   "execution_count": 56,
   "id": "52b7d406",
   "metadata": {},
   "outputs": [
    {
     "name": "stdout",
     "output_type": "stream",
     "text": [
      "Feature extraction ...\n",
      "1377/1377 [==============================] - 31s 22ms/step\n",
      "\tFeatures data shape:  (44062, 5120)\n"
     ]
    }
   ],
   "source": [
    "# Extração de features\n",
    "print(\"Feature extraction ...\")\n",
    "prediction = np.array(model.predict(X_data))\n",
    "featuresData = np.reshape(prediction, (prediction.shape[0], Predshape))\n",
    "\n",
    "print('\\tFeatures data shape: ', featuresData.shape)"
   ]
  },
  {
   "cell_type": "code",
   "execution_count": 57,
   "id": "f3112968",
   "metadata": {},
   "outputs": [
    {
     "name": "stdout",
     "output_type": "stream",
     "text": [
      "X_reduced shape:  (44062, 243)\n"
     ]
    }
   ],
   "source": [
    "from sklearn.decomposition import PCA\n",
    "\n",
    "pca = PCA(n_components=0.95)\n",
    "X_reduced = pca.fit_transform(featuresData)\n",
    "\n",
    "print('X_reduced shape: ', X_reduced.shape)"
   ]
  },
  {
   "cell_type": "code",
   "execution_count": 58,
   "id": "7ccb04b2",
   "metadata": {},
   "outputs": [],
   "source": [
    "from sklearn.preprocessing import label_binarize\n",
    "labels = [i for i in range(0, 20)]\n",
    "\n",
    "X_train, X_test, y_train, y_test = train_test_split(X_reduced, y_data, test_size=0.33)\n",
    "\n",
    "y_train = np.array(label_binarize(y_train, classes=labels))\n",
    "y_test = np.array(label_binarize(y_test, classes=labels))\n",
    "X_train, X_val, y_train, y_val = train_test_split(X_train, y_train, test_size=0.25)"
   ]
  },
  {
   "cell_type": "code",
   "execution_count": 59,
   "id": "d322f9b3",
   "metadata": {},
   "outputs": [
    {
     "name": "stdout",
     "output_type": "stream",
     "text": [
      "training set shape (22140, 243)\n",
      "testing set shape (14541, 243)\n",
      "label train set shape (22140, 20)\n",
      "label test set shape (14541, 20)\n"
     ]
    }
   ],
   "source": [
    "print(f'training set shape {X_train.shape}')\n",
    "print(f'testing set shape {X_test.shape}')\n",
    "print(f'label train set shape {y_train.shape}')\n",
    "print(f'label test set shape {y_test.shape}')"
   ]
  },
  {
   "cell_type": "code",
   "execution_count": 60,
   "id": "58f36d9c",
   "metadata": {},
   "outputs": [],
   "source": [
    "# Creating the Sequential Model\n",
    "model = keras.Sequential([\n",
    "    \n",
    "    # Fully-connected layer\n",
    "    layers.Dense(40, activation='relu', input_shape=[X_train.shape[1]]),\n",
    "    layers.Dense(20, activation='softmax'),\n",
    "])\n",
    "\n",
    "model.compile(\n",
    "    optimizer='adam',\n",
    "    loss = 'categorical_crossentropy',\n",
    "    metrics = ['categorical_accuracy'],\n",
    ")"
   ]
  },
  {
   "cell_type": "code",
   "execution_count": 61,
   "id": "5b75bf2f",
   "metadata": {},
   "outputs": [
    {
     "name": "stdout",
     "output_type": "stream",
     "text": [
      "Model: \"sequential_3\"\n",
      "_________________________________________________________________\n",
      " Layer (type)                Output Shape              Param #   \n",
      "=================================================================\n",
      " dense_6 (Dense)             (None, 40)                9760      \n",
      "                                                                 \n",
      " dense_7 (Dense)             (None, 20)                820       \n",
      "                                                                 \n",
      "=================================================================\n",
      "Total params: 10,580\n",
      "Trainable params: 10,580\n",
      "Non-trainable params: 0\n",
      "_________________________________________________________________\n"
     ]
    }
   ],
   "source": [
    "model.summary()"
   ]
  },
  {
   "cell_type": "code",
   "execution_count": 62,
   "id": "d7e08c21",
   "metadata": {},
   "outputs": [
    {
     "name": "stdout",
     "output_type": "stream",
     "text": [
      "Epoch 1/100\n",
      "692/692 [==============================] - 1s 2ms/step - loss: 1.7090 - categorical_accuracy: 0.5042 - val_loss: 1.0205 - val_categorical_accuracy: 0.6808\n",
      "Epoch 2/100\n",
      "692/692 [==============================] - 1s 2ms/step - loss: 0.8273 - categorical_accuracy: 0.7446 - val_loss: 0.7607 - val_categorical_accuracy: 0.7576\n",
      "Epoch 3/100\n",
      "692/692 [==============================] - 1s 1ms/step - loss: 0.6322 - categorical_accuracy: 0.7985 - val_loss: 0.6612 - val_categorical_accuracy: 0.7857\n",
      "Epoch 4/100\n",
      "692/692 [==============================] - 1s 1ms/step - loss: 0.5343 - categorical_accuracy: 0.8280 - val_loss: 0.6150 - val_categorical_accuracy: 0.7973\n",
      "Epoch 5/100\n",
      "692/692 [==============================] - 1s 2ms/step - loss: 0.4686 - categorical_accuracy: 0.8482 - val_loss: 0.5838 - val_categorical_accuracy: 0.8035\n",
      "Epoch 6/100\n",
      "692/692 [==============================] - 2s 2ms/step - loss: 0.4227 - categorical_accuracy: 0.8623 - val_loss: 0.5646 - val_categorical_accuracy: 0.8102\n",
      "Epoch 7/100\n",
      "692/692 [==============================] - 1s 2ms/step - loss: 0.3858 - categorical_accuracy: 0.8737 - val_loss: 0.5640 - val_categorical_accuracy: 0.8126\n",
      "Epoch 8/100\n",
      "692/692 [==============================] - 1s 2ms/step - loss: 0.3570 - categorical_accuracy: 0.8821 - val_loss: 0.5582 - val_categorical_accuracy: 0.8172\n",
      "Epoch 9/100\n",
      "692/692 [==============================] - 1s 2ms/step - loss: 0.3325 - categorical_accuracy: 0.8914 - val_loss: 0.5584 - val_categorical_accuracy: 0.8179\n",
      "Epoch 10/100\n",
      "692/692 [==============================] - 1s 2ms/step - loss: 0.3112 - categorical_accuracy: 0.8985 - val_loss: 0.5564 - val_categorical_accuracy: 0.8187\n",
      "Epoch 11/100\n",
      "692/692 [==============================] - 1s 1ms/step - loss: 0.2930 - categorical_accuracy: 0.9027 - val_loss: 0.5714 - val_categorical_accuracy: 0.8203\n",
      "Epoch 12/100\n",
      "692/692 [==============================] - 1s 2ms/step - loss: 0.2769 - categorical_accuracy: 0.9100 - val_loss: 0.5705 - val_categorical_accuracy: 0.8231\n",
      "Epoch 13/100\n",
      "692/692 [==============================] - 1s 2ms/step - loss: 0.2634 - categorical_accuracy: 0.9141 - val_loss: 0.5777 - val_categorical_accuracy: 0.8202\n",
      "Epoch 14/100\n",
      "692/692 [==============================] - 1s 2ms/step - loss: 0.2505 - categorical_accuracy: 0.9169 - val_loss: 0.5786 - val_categorical_accuracy: 0.8217\n",
      "Epoch 15/100\n",
      "692/692 [==============================] - 1s 2ms/step - loss: 0.2374 - categorical_accuracy: 0.9221 - val_loss: 0.5967 - val_categorical_accuracy: 0.8209\n",
      "Epoch 16/100\n",
      "692/692 [==============================] - 1s 2ms/step - loss: 0.2262 - categorical_accuracy: 0.9262 - val_loss: 0.6070 - val_categorical_accuracy: 0.8205\n",
      "Epoch 17/100\n",
      "692/692 [==============================] - 1s 2ms/step - loss: 0.2164 - categorical_accuracy: 0.9301 - val_loss: 0.6133 - val_categorical_accuracy: 0.8224\n",
      "Epoch 18/100\n",
      "692/692 [==============================] - 1s 2ms/step - loss: 0.2064 - categorical_accuracy: 0.9327 - val_loss: 0.6207 - val_categorical_accuracy: 0.8221\n",
      "Epoch 19/100\n",
      "692/692 [==============================] - 1s 1ms/step - loss: 0.2008 - categorical_accuracy: 0.9349 - val_loss: 0.6337 - val_categorical_accuracy: 0.8212\n",
      "Epoch 20/100\n",
      "692/692 [==============================] - 1s 2ms/step - loss: 0.1914 - categorical_accuracy: 0.9385 - val_loss: 0.6436 - val_categorical_accuracy: 0.8258\n"
     ]
    }
   ],
   "source": [
    "from tensorflow.keras.callbacks import EarlyStopping\n",
    "\n",
    "early_stopping = EarlyStopping(\n",
    "    min_delta=0.001, # minimium amount of change to count as an improvement\n",
    "    patience=10, # how many epochs to wait before stopping\n",
    "    restore_best_weights=True,\n",
    ")\n",
    "\n",
    "history = model.fit(\n",
    "    X_train, y_train,\n",
    "    validation_data=(X_val, y_val),\n",
    "    batch_size=32,\n",
    "    epochs=100,\n",
    "    shuffle=True,\n",
    "    callbacks=[early_stopping],\n",
    ")"
   ]
  },
  {
   "cell_type": "code",
   "execution_count": 63,
   "id": "13475720",
   "metadata": {},
   "outputs": [
    {
     "name": "stdout",
     "output_type": "stream",
     "text": [
      "Best Validation Loss: 0.5564\n",
      "Best Validation Accuracy: 0.8258\n"
     ]
    },
    {
     "data": {
      "image/png": "[encoded data removed]",
      "text/plain": [
       "<Figure size 640x480 with 1 Axes>"
      ]
     },
     "metadata": {},
     "output_type": "display_data"
    },
    {
     "data": {
      "image/png": "[encoded data removed]",
      "text/plain": [
       "<Figure size 640x480 with 1 Axes>"
      ]
     },
     "metadata": {},
     "output_type": "display_data"
    }
   ],
   "source": [
    "# Estatística do modelo\n",
    "history_df = pd.DataFrame(history.history)\n",
    "history_df.loc[1:, ['loss', 'val_loss']].plot()\n",
    "history_df.loc[1:, ['categorical_accuracy', 'val_categorical_accuracy']].plot()\n",
    "\n",
    "print((\"Best Validation Loss: {:0.4f}\" +\\\n",
    "      \"\\nBest Validation Accuracy: {:0.4f}\")\\\n",
    "      .format(history_df['val_loss'].min(), \n",
    "              history_df['val_categorical_accuracy'].max()))"
   ]
  },
  {
   "cell_type": "code",
   "execution_count": 64,
   "id": "6e1411cb",
   "metadata": {},
   "outputs": [
    {
     "name": "stdout",
     "output_type": "stream",
     "text": [
      "455/455 [==============================] - 0s 704us/step\n"
     ]
    }
   ],
   "source": [
    "# Decoding predições e labels de test por hard voting \n",
    "argy_test = [np.argmax(i) for i in y_test]\n",
    "argy_pred = [np.argmax(i) for i in model.predict(X_test)]"
   ]
  },
  {
   "cell_type": "code",
   "execution_count": 65,
   "id": "ed7f7ddd",
   "metadata": {
    "scrolled": true
   },
   "outputs": [
    {
     "name": "stdout",
     "output_type": "stream",
     "text": [
      "MobileNet score on test set: 0.8229145175710061\n"
     ]
    }
   ],
   "source": [
    "# Resultado nos dados de test\n",
    "\n",
    "print(f'MobileNet score on test set: {accuracy_score(argy_test, argy_pred)}')"
   ]
  },
  {
   "cell_type": "markdown",
   "id": "16cb42f4",
   "metadata": {},
   "source": [
    "### Testando com DenseNet169"
   ]
  },
  {
   "cell_type": "code",
   "execution_count": 66,
   "id": "d5cfbfb0",
   "metadata": {},
   "outputs": [],
   "source": [
    "import tensorflow.keras.applications as apps\n",
    "from tensorflow import keras\n",
    "from tensorflow.keras import layers\n",
    "\n",
    "model = apps.DenseNet169(include_top=False, weights='imagenet', input_shape=(64, 64, 3)) \n",
    "model = Model(inputs=model.input, outputs=model.get_layer(index=-1).output)\n",
    "model.trainable = False"
   ]
  },
  {
   "cell_type": "code",
   "execution_count": 67,
   "id": "2232294f",
   "metadata": {},
   "outputs": [
    {
     "name": "stdout",
     "output_type": "stream",
     "text": [
      "Model output (None, 2, 2, 1664)\n"
     ]
    }
   ],
   "source": [
    "print(\"Model output\", model.output.shape)"
   ]
  },
  {
   "cell_type": "code",
   "execution_count": 68,
   "id": "f16e6620",
   "metadata": {},
   "outputs": [
    {
     "name": "stdout",
     "output_type": "stream",
     "text": [
      "1/1 [==============================] - 2s 2s/step\n"
     ]
    }
   ],
   "source": [
    "preds = model.predict(X_data[0:5])"
   ]
  },
  {
   "cell_type": "code",
   "execution_count": 69,
   "id": "059b5438",
   "metadata": {},
   "outputs": [
    {
     "name": "stdout",
     "output_type": "stream",
     "text": [
      "prediction shape (2, 2, 1664)\n"
     ]
    }
   ],
   "source": [
    "print(\"prediction shape\", np.array(preds[0]).shape)"
   ]
  },
  {
   "cell_type": "code",
   "execution_count": 70,
   "id": "990335c1",
   "metadata": {},
   "outputs": [
    {
     "name": "stdout",
     "output_type": "stream",
     "text": [
      "predshape: 6656\n"
     ]
    }
   ],
   "source": [
    "Predshape = np.array(preds[0]).reshape(-1).shape[0]\n",
    "print(f\"predshape: {Predshape}\")"
   ]
  },
  {
   "cell_type": "code",
   "execution_count": 71,
   "id": "8983bd71",
   "metadata": {},
   "outputs": [
    {
     "name": "stdout",
     "output_type": "stream",
     "text": [
      "Feature extraction ...\n",
      "1377/1377 [==============================] - 136s 99ms/step\n",
      "\tFeatures data shape:  (44062, 6656)\n"
     ]
    }
   ],
   "source": [
    "# Extração de features\n",
    "print(\"Feature extraction ...\")\n",
    "prediction = np.array(model.predict(X_data))\n",
    "featuresData = np.reshape(prediction, (prediction.shape[0], Predshape))\n",
    "\n",
    "print('\\tFeatures data shape: ', featuresData.shape)"
   ]
  },
  {
   "cell_type": "code",
   "execution_count": 72,
   "id": "fcd02b81",
   "metadata": {},
   "outputs": [
    {
     "name": "stdout",
     "output_type": "stream",
     "text": [
      "X_reduced shape:  (44062, 68)\n"
     ]
    }
   ],
   "source": [
    "from sklearn.decomposition import PCA\n",
    "\n",
    "pca = PCA(n_components=0.95)\n",
    "X_reduced = pca.fit_transform(featuresData)\n",
    "\n",
    "print('X_reduced shape: ', X_reduced.shape)"
   ]
  },
  {
   "cell_type": "code",
   "execution_count": 73,
   "id": "d49870f2",
   "metadata": {},
   "outputs": [],
   "source": [
    "from sklearn.preprocessing import label_binarize\n",
    "labels = [i for i in range(0, 20)]\n",
    "\n",
    "X_train, X_test, y_train, y_test = train_test_split(X_reduced, y_data, test_size=0.33)\n",
    "\n",
    "y_train = np.array(label_binarize(y_train, classes=labels))\n",
    "y_test = np.array(label_binarize(y_test, classes=labels))\n",
    "X_train, X_val, y_train, y_val = train_test_split(X_train, y_train, test_size=0.25)"
   ]
  },
  {
   "cell_type": "code",
   "execution_count": 74,
   "id": "a0bfbcfc",
   "metadata": {},
   "outputs": [
    {
     "name": "stdout",
     "output_type": "stream",
     "text": [
      "training set shape (22140, 68)\n",
      "testing set shape (14541, 68)\n",
      "label train set shape (22140, 20)\n",
      "label test set shape (14541, 20)\n"
     ]
    }
   ],
   "source": [
    "print(f'training set shape {X_train.shape}')\n",
    "print(f'testing set shape {X_test.shape}')\n",
    "print(f'label train set shape {y_train.shape}')\n",
    "print(f'label test set shape {y_test.shape}')"
   ]
  },
  {
   "cell_type": "code",
   "execution_count": 75,
   "id": "e290d142",
   "metadata": {},
   "outputs": [],
   "source": [
    "# Creating the Sequential Model\n",
    "model = keras.Sequential([\n",
    "    \n",
    "    # Fully-connected layer\n",
    "    layers.Dense(40, activation='relu', input_shape=[X_train.shape[1]]),\n",
    "    layers.Dense(20, activation='softmax'),\n",
    "])\n",
    "\n",
    "model.compile(\n",
    "    optimizer='adam',\n",
    "    loss = 'categorical_crossentropy',\n",
    "    metrics = ['categorical_accuracy'],\n",
    ")"
   ]
  },
  {
   "cell_type": "code",
   "execution_count": 76,
   "id": "395bbee4",
   "metadata": {},
   "outputs": [
    {
     "name": "stdout",
     "output_type": "stream",
     "text": [
      "Model: \"sequential_4\"\n",
      "_________________________________________________________________\n",
      " Layer (type)                Output Shape              Param #   \n",
      "=================================================================\n",
      " dense_8 (Dense)             (None, 40)                2760      \n",
      "                                                                 \n",
      " dense_9 (Dense)             (None, 20)                820       \n",
      "                                                                 \n",
      "=================================================================\n",
      "Total params: 3,580\n",
      "Trainable params: 3,580\n",
      "Non-trainable params: 0\n",
      "_________________________________________________________________\n"
     ]
    }
   ],
   "source": [
    "model.summary()"
   ]
  },
  {
   "cell_type": "code",
   "execution_count": 77,
   "id": "31f6a8b4",
   "metadata": {},
   "outputs": [
    {
     "name": "stdout",
     "output_type": "stream",
     "text": [
      "Epoch 1/100\n",
      "692/692 [==============================] - 2s 2ms/step - loss: 7.2659 - categorical_accuracy: 0.6236 - val_loss: 1.0671 - val_categorical_accuracy: 0.8367\n",
      "Epoch 2/100\n",
      "692/692 [==============================] - 1s 2ms/step - loss: 0.5992 - categorical_accuracy: 0.8861 - val_loss: 0.4119 - val_categorical_accuracy: 0.9123\n",
      "Epoch 3/100\n",
      "692/692 [==============================] - 1s 2ms/step - loss: 0.2799 - categorical_accuracy: 0.9353 - val_loss: 0.2659 - val_categorical_accuracy: 0.9401\n",
      "Epoch 4/100\n",
      "692/692 [==============================] - 1s 2ms/step - loss: 0.1643 - categorical_accuracy: 0.9561 - val_loss: 0.1918 - val_categorical_accuracy: 0.9524\n",
      "Epoch 5/100\n",
      "692/692 [==============================] - 1s 2ms/step - loss: 0.1098 - categorical_accuracy: 0.9674 - val_loss: 0.1613 - val_categorical_accuracy: 0.9596\n",
      "Epoch 6/100\n",
      "692/692 [==============================] - 1s 2ms/step - loss: 0.0869 - categorical_accuracy: 0.9742 - val_loss: 0.1304 - val_categorical_accuracy: 0.9695\n",
      "Epoch 7/100\n",
      "692/692 [==============================] - 1s 2ms/step - loss: 0.0728 - categorical_accuracy: 0.9782 - val_loss: 0.1246 - val_categorical_accuracy: 0.9698\n",
      "Epoch 8/100\n",
      "692/692 [==============================] - 1s 1ms/step - loss: 0.0613 - categorical_accuracy: 0.9816 - val_loss: 0.1135 - val_categorical_accuracy: 0.9724\n",
      "Epoch 9/100\n",
      "692/692 [==============================] - 1s 2ms/step - loss: 0.0588 - categorical_accuracy: 0.9827 - val_loss: 0.1100 - val_categorical_accuracy: 0.9701\n",
      "Epoch 10/100\n",
      "692/692 [==============================] - 1s 2ms/step - loss: 0.0481 - categorical_accuracy: 0.9854 - val_loss: 0.1297 - val_categorical_accuracy: 0.9687\n",
      "Epoch 11/100\n",
      "692/692 [==============================] - 1s 2ms/step - loss: 0.0372 - categorical_accuracy: 0.9888 - val_loss: 0.1065 - val_categorical_accuracy: 0.9767\n",
      "Epoch 12/100\n",
      "692/692 [==============================] - 1s 2ms/step - loss: 0.0460 - categorical_accuracy: 0.9860 - val_loss: 0.1015 - val_categorical_accuracy: 0.9771\n",
      "Epoch 13/100\n",
      "692/692 [==============================] - 1s 2ms/step - loss: 0.0306 - categorical_accuracy: 0.9905 - val_loss: 0.1009 - val_categorical_accuracy: 0.9787\n",
      "Epoch 14/100\n",
      "692/692 [==============================] - 1s 2ms/step - loss: 0.0477 - categorical_accuracy: 0.9872 - val_loss: 0.0967 - val_categorical_accuracy: 0.9791\n",
      "Epoch 15/100\n",
      "692/692 [==============================] - 1s 2ms/step - loss: 0.0351 - categorical_accuracy: 0.9898 - val_loss: 0.0944 - val_categorical_accuracy: 0.9806\n",
      "Epoch 16/100\n",
      "692/692 [==============================] - 1s 2ms/step - loss: 0.0216 - categorical_accuracy: 0.9929 - val_loss: 0.0843 - val_categorical_accuracy: 0.9839\n",
      "Epoch 17/100\n",
      "692/692 [==============================] - 1s 2ms/step - loss: 0.0343 - categorical_accuracy: 0.9900 - val_loss: 0.1000 - val_categorical_accuracy: 0.9802\n",
      "Epoch 18/100\n",
      "692/692 [==============================] - 1s 2ms/step - loss: 0.0306 - categorical_accuracy: 0.9911 - val_loss: 0.0750 - val_categorical_accuracy: 0.9851\n",
      "Epoch 19/100\n",
      "692/692 [==============================] - 1s 2ms/step - loss: 0.0245 - categorical_accuracy: 0.9921 - val_loss: 0.0883 - val_categorical_accuracy: 0.9818\n",
      "Epoch 20/100\n",
      "692/692 [==============================] - 1s 2ms/step - loss: 0.0263 - categorical_accuracy: 0.9925 - val_loss: 0.0949 - val_categorical_accuracy: 0.9809\n",
      "Epoch 21/100\n",
      "692/692 [==============================] - 1s 2ms/step - loss: 0.0270 - categorical_accuracy: 0.9923 - val_loss: 0.0900 - val_categorical_accuracy: 0.9824\n",
      "Epoch 22/100\n",
      "692/692 [==============================] - 1s 1ms/step - loss: 0.0240 - categorical_accuracy: 0.9927 - val_loss: 0.0722 - val_categorical_accuracy: 0.9858\n",
      "Epoch 23/100\n",
      "692/692 [==============================] - 1s 2ms/step - loss: 0.0157 - categorical_accuracy: 0.9952 - val_loss: 0.0771 - val_categorical_accuracy: 0.9856\n",
      "Epoch 24/100\n",
      "692/692 [==============================] - 1s 2ms/step - loss: 0.0226 - categorical_accuracy: 0.9939 - val_loss: 0.0883 - val_categorical_accuracy: 0.9851\n",
      "Epoch 25/100\n",
      "692/692 [==============================] - 1s 2ms/step - loss: 0.0270 - categorical_accuracy: 0.9934 - val_loss: 0.0730 - val_categorical_accuracy: 0.9867\n",
      "Epoch 26/100\n",
      "692/692 [==============================] - 1s 2ms/step - loss: 0.0172 - categorical_accuracy: 0.9953 - val_loss: 0.0827 - val_categorical_accuracy: 0.9841\n",
      "Epoch 27/100\n",
      "692/692 [==============================] - 1s 2ms/step - loss: 0.0206 - categorical_accuracy: 0.9942 - val_loss: 0.0867 - val_categorical_accuracy: 0.9847\n",
      "Epoch 28/100\n",
      "692/692 [==============================] - 1s 1ms/step - loss: 0.0197 - categorical_accuracy: 0.9939 - val_loss: 0.0722 - val_categorical_accuracy: 0.9878\n",
      "Epoch 29/100\n",
      "692/692 [==============================] - 1s 2ms/step - loss: 0.0192 - categorical_accuracy: 0.9949 - val_loss: 0.0828 - val_categorical_accuracy: 0.9837\n",
      "Epoch 30/100\n",
      "692/692 [==============================] - 1s 2ms/step - loss: 0.0136 - categorical_accuracy: 0.9960 - val_loss: 0.0708 - val_categorical_accuracy: 0.9875\n",
      "Epoch 31/100\n",
      "692/692 [==============================] - 1s 2ms/step - loss: 0.0167 - categorical_accuracy: 0.9958 - val_loss: 0.0845 - val_categorical_accuracy: 0.9867\n",
      "Epoch 32/100\n",
      "692/692 [==============================] - 1s 1ms/step - loss: 0.0177 - categorical_accuracy: 0.9949 - val_loss: 0.0820 - val_categorical_accuracy: 0.9870\n",
      "Epoch 33/100\n",
      "692/692 [==============================] - 1s 2ms/step - loss: 0.0236 - categorical_accuracy: 0.9945 - val_loss: 0.0738 - val_categorical_accuracy: 0.9874\n",
      "Epoch 34/100\n",
      "692/692 [==============================] - 1s 1ms/step - loss: 0.0183 - categorical_accuracy: 0.9951 - val_loss: 0.0695 - val_categorical_accuracy: 0.9879\n",
      "Epoch 35/100\n",
      "692/692 [==============================] - 1s 1ms/step - loss: 0.0102 - categorical_accuracy: 0.9970 - val_loss: 0.0718 - val_categorical_accuracy: 0.9890\n",
      "Epoch 36/100\n",
      "692/692 [==============================] - 1s 1ms/step - loss: 0.0182 - categorical_accuracy: 0.9955 - val_loss: 0.0829 - val_categorical_accuracy: 0.9865\n",
      "Epoch 37/100\n",
      "692/692 [==============================] - 1s 2ms/step - loss: 0.0191 - categorical_accuracy: 0.9956 - val_loss: 0.1020 - val_categorical_accuracy: 0.9836\n",
      "Epoch 38/100\n",
      "692/692 [==============================] - 1s 2ms/step - loss: 0.0131 - categorical_accuracy: 0.9971 - val_loss: 0.0616 - val_categorical_accuracy: 0.9916\n",
      "Epoch 39/100\n",
      "692/692 [==============================] - 1s 2ms/step - loss: 0.0189 - categorical_accuracy: 0.9955 - val_loss: 0.0923 - val_categorical_accuracy: 0.9852\n",
      "Epoch 40/100\n",
      "692/692 [==============================] - 1s 2ms/step - loss: 0.0223 - categorical_accuracy: 0.9937 - val_loss: 0.0643 - val_categorical_accuracy: 0.9898\n",
      "Epoch 41/100\n",
      "692/692 [==============================] - 1s 1ms/step - loss: 0.0088 - categorical_accuracy: 0.9979 - val_loss: 0.0577 - val_categorical_accuracy: 0.9911\n",
      "Epoch 42/100\n",
      "692/692 [==============================] - 1s 2ms/step - loss: 0.0106 - categorical_accuracy: 0.9970 - val_loss: 0.0731 - val_categorical_accuracy: 0.9877\n",
      "Epoch 43/100\n",
      "692/692 [==============================] - 1s 1ms/step - loss: 0.0177 - categorical_accuracy: 0.9955 - val_loss: 0.0867 - val_categorical_accuracy: 0.9883\n",
      "Epoch 44/100\n",
      "692/692 [==============================] - 1s 2ms/step - loss: 0.0185 - categorical_accuracy: 0.9948 - val_loss: 0.1048 - val_categorical_accuracy: 0.9859\n",
      "Epoch 45/100\n",
      "692/692 [==============================] - 1s 2ms/step - loss: 0.0135 - categorical_accuracy: 0.9964 - val_loss: 0.0747 - val_categorical_accuracy: 0.9879\n",
      "Epoch 46/100\n",
      "692/692 [==============================] - 1s 2ms/step - loss: 0.0191 - categorical_accuracy: 0.9955 - val_loss: 0.0829 - val_categorical_accuracy: 0.9882\n",
      "Epoch 47/100\n",
      "692/692 [==============================] - 1s 2ms/step - loss: 0.0117 - categorical_accuracy: 0.9968 - val_loss: 0.0828 - val_categorical_accuracy: 0.9866\n",
      "Epoch 48/100\n",
      "692/692 [==============================] - 1s 2ms/step - loss: 0.0103 - categorical_accuracy: 0.9974 - val_loss: 0.0782 - val_categorical_accuracy: 0.9882\n",
      "Epoch 49/100\n",
      "692/692 [==============================] - 1s 1ms/step - loss: 0.0164 - categorical_accuracy: 0.9965 - val_loss: 0.0949 - val_categorical_accuracy: 0.9882\n"
     ]
    },
    {
     "name": "stdout",
     "output_type": "stream",
     "text": [
      "Epoch 50/100\n",
      "692/692 [==============================] - 1s 1ms/step - loss: 0.0126 - categorical_accuracy: 0.9970 - val_loss: 0.0905 - val_categorical_accuracy: 0.9897\n",
      "Epoch 51/100\n",
      "692/692 [==============================] - 1s 1ms/step - loss: 0.0181 - categorical_accuracy: 0.9970 - val_loss: 0.0758 - val_categorical_accuracy: 0.9894\n"
     ]
    }
   ],
   "source": [
    "from tensorflow.keras.callbacks import EarlyStopping\n",
    "\n",
    "early_stopping = EarlyStopping(\n",
    "    min_delta=0.001, # minimium amount of change to count as an improvement\n",
    "    patience=10, # how many epochs to wait before stopping\n",
    "    restore_best_weights=True,\n",
    ")\n",
    "\n",
    "history = model.fit(\n",
    "    X_train, y_train,\n",
    "    validation_data=(X_val, y_val),\n",
    "    batch_size=32,\n",
    "    epochs=100,\n",
    "    shuffle=True,\n",
    "    callbacks=[early_stopping],\n",
    ")"
   ]
  },
  {
   "cell_type": "code",
   "execution_count": 78,
   "id": "619b11cb",
   "metadata": {},
   "outputs": [
    {
     "name": "stdout",
     "output_type": "stream",
     "text": [
      "Best Validation Loss: 0.0577\n",
      "Best Validation Accuracy: 0.9916\n"
     ]
    },
    {
     "data": {
      "image/png": "[encoded data removed]",
      "text/plain": [
       "<Figure size 640x480 with 1 Axes>"
      ]
     },
     "metadata": {},
     "output_type": "display_data"
    },
    {
     "data": {
      "image/png": "[encoded data removed]",
      "text/plain": [
       "<Figure size 640x480 with 1 Axes>"
      ]
     },
     "metadata": {},
     "output_type": "display_data"
    }
   ],
   "source": [
    "# Estatística do modelo\n",
    "history_df = pd.DataFrame(history.history)\n",
    "history_df.loc[1:, ['loss', 'val_loss']].plot()\n",
    "history_df.loc[1:, ['categorical_accuracy', 'val_categorical_accuracy']].plot()\n",
    "\n",
    "print((\"Best Validation Loss: {:0.4f}\" +\\\n",
    "      \"\\nBest Validation Accuracy: {:0.4f}\")\\\n",
    "      .format(history_df['val_loss'].min(), \n",
    "              history_df['val_categorical_accuracy'].max()))"
   ]
  },
  {
   "cell_type": "code",
   "execution_count": 79,
   "id": "474694bd",
   "metadata": {},
   "outputs": [
    {
     "name": "stdout",
     "output_type": "stream",
     "text": [
      "455/455 [==============================] - 0s 691us/step\n"
     ]
    }
   ],
   "source": [
    "# Decoding predições e labels de test por hard voting \n",
    "argy_test = [np.argmax(i) for i in y_test]\n",
    "argy_pred = [np.argmax(i) for i in model.predict(X_test)]"
   ]
  },
  {
   "cell_type": "code",
   "execution_count": 80,
   "id": "72dfa768",
   "metadata": {
    "scrolled": true
   },
   "outputs": [
    {
     "name": "stdout",
     "output_type": "stream",
     "text": [
      "DenseNet169 score on test set: 0.9923664122137404\n"
     ]
    }
   ],
   "source": [
    "# Resultado nos dados de test\n",
    "\n",
    "print(f'DenseNet169 score on test set: {accuracy_score(argy_test, argy_pred)}')"
   ]
  },
  {
   "cell_type": "markdown",
   "id": "a50a6860",
   "metadata": {},
   "source": [
    "## Resultados:\n",
    "### VGG: val_loss = 0.0050, val_categorical_accuracy = 99.95%, test_score = 99.92%\n",
    "### ResNetV2: val_loss = 0.0048, val_categorical_accuracy = 99.95%, test_score = 99.97% \n",
    "### EfficientNetB3: val_loss = 0.0045 val_categorical_accuracy = 100%, test_score = 99.96%\n",
    "### MobileNet: val_loss = 0.4464, val_categoricla_accuracy = 82.58%, test_score = 82.29%\n",
    "### DenseNet169: val_loss = 0.0577, val_categorical_accuracy = 99,16%, test_score = 99,24%"
   ]
  }
 ],
 "metadata": {
  "kernelspec": {
   "display_name": "Python 3 (ipykernel)",
   "language": "python",
   "name": "python3"
  },
  "language_info": {
   "codemirror_mode": {
    "name": "ipython",
    "version": 3
   },
   "file_extension": ".py",
   "mimetype": "text/x-python",
   "name": "python",
   "nbconvert_exporter": "python",
   "pygments_lexer": "ipython3",
   "version": "3.8.10"
  }
 },
 "nbformat": 4,
 "nbformat_minor": 5
}
